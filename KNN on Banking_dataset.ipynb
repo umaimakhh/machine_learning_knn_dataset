{
 "cells": [
  {
   "cell_type": "code",
   "metadata": {
    "cell_id": "00000-909cb0d5-6120-4d8c-b3d9-9c456145759f",
    "deepnote_to_be_reexecuted": false,
    "source_hash": "f25bd425",
    "execution_start": 1634946438115,
    "execution_millis": 9,
    "deepnote_app_coordinates": {
     "x": 0,
     "y": null,
     "w": 12,
     "h": 5
    },
    "deepnote_cell_type": "code"
   },
   "source": "import numpy as np\nimport pandas as pd\n",
   "execution_count": null,
   "outputs": []
  },
  {
   "cell_type": "code",
   "metadata": {
    "cell_id": "00001-4188e974-3da6-44b2-bcbd-d5ceada58003",
    "deepnote_to_be_reexecuted": false,
    "source_hash": "55a40b64",
    "execution_start": 1634946438132,
    "execution_millis": 165,
    "deepnote_app_coordinates": {
     "x": 0,
     "y": 6,
     "w": 12,
     "h": 5
    },
    "deepnote_cell_type": "code"
   },
   "source": "df = pd.read_csv(\"C:/Users/Umaima/Untitled Folder/bank_data.csv\", index_col=0, na_values=[\"?\"])\n",
   "execution_count": null,
   "outputs": [
    {
     "output_type": "error",
     "ename": "FileNotFoundError",
     "evalue": "[Errno 2] No such file or directory: 'C:/Users/Umaima/Untitled Folder/bank_data.csv'",
     "traceback": [
      "\u001b[0;31m---------------------------------------------------------------------------\u001b[0m",
      "\u001b[0;31mFileNotFoundError\u001b[0m                         Traceback (most recent call last)",
      "\u001b[0;32m<ipython-input-2-e1484d6bb31f>\u001b[0m in \u001b[0;36m<module>\u001b[0;34m\u001b[0m\n\u001b[0;32m----> 1\u001b[0;31m \u001b[0mdf\u001b[0m \u001b[0;34m=\u001b[0m \u001b[0mpd\u001b[0m\u001b[0;34m.\u001b[0m\u001b[0mread_csv\u001b[0m\u001b[0;34m(\u001b[0m\u001b[0;34m\"C:/Users/Umaima/Untitled Folder/bank_data.csv\"\u001b[0m\u001b[0;34m,\u001b[0m \u001b[0mindex_col\u001b[0m\u001b[0;34m=\u001b[0m\u001b[0;36m0\u001b[0m\u001b[0;34m,\u001b[0m \u001b[0mna_values\u001b[0m\u001b[0;34m=\u001b[0m\u001b[0;34m[\u001b[0m\u001b[0;34m\"?\"\u001b[0m\u001b[0;34m]\u001b[0m\u001b[0;34m)\u001b[0m\u001b[0;34m\u001b[0m\u001b[0;34m\u001b[0m\u001b[0m\n\u001b[0m",
      "\u001b[0;32m/shared-libs/python3.7/py/lib/python3.7/site-packages/pandas/io/parsers.py\u001b[0m in \u001b[0;36mread_csv\u001b[0;34m(filepath_or_buffer, sep, delimiter, header, names, index_col, usecols, squeeze, prefix, mangle_dupe_cols, dtype, engine, converters, true_values, false_values, skipinitialspace, skiprows, skipfooter, nrows, na_values, keep_default_na, na_filter, verbose, skip_blank_lines, parse_dates, infer_datetime_format, keep_date_col, date_parser, dayfirst, cache_dates, iterator, chunksize, compression, thousands, decimal, lineterminator, quotechar, quoting, doublequote, escapechar, comment, encoding, dialect, error_bad_lines, warn_bad_lines, delim_whitespace, low_memory, memory_map, float_precision, storage_options)\u001b[0m\n\u001b[1;32m    608\u001b[0m     \u001b[0mkwds\u001b[0m\u001b[0;34m.\u001b[0m\u001b[0mupdate\u001b[0m\u001b[0;34m(\u001b[0m\u001b[0mkwds_defaults\u001b[0m\u001b[0;34m)\u001b[0m\u001b[0;34m\u001b[0m\u001b[0;34m\u001b[0m\u001b[0m\n\u001b[1;32m    609\u001b[0m \u001b[0;34m\u001b[0m\u001b[0m\n\u001b[0;32m--> 610\u001b[0;31m     \u001b[0;32mreturn\u001b[0m \u001b[0m_read\u001b[0m\u001b[0;34m(\u001b[0m\u001b[0mfilepath_or_buffer\u001b[0m\u001b[0;34m,\u001b[0m \u001b[0mkwds\u001b[0m\u001b[0;34m)\u001b[0m\u001b[0;34m\u001b[0m\u001b[0;34m\u001b[0m\u001b[0m\n\u001b[0m\u001b[1;32m    611\u001b[0m \u001b[0;34m\u001b[0m\u001b[0m\n\u001b[1;32m    612\u001b[0m \u001b[0;34m\u001b[0m\u001b[0m\n",
      "\u001b[0;32m/shared-libs/python3.7/py/lib/python3.7/site-packages/pandas/io/parsers.py\u001b[0m in \u001b[0;36m_read\u001b[0;34m(filepath_or_buffer, kwds)\u001b[0m\n\u001b[1;32m    460\u001b[0m \u001b[0;34m\u001b[0m\u001b[0m\n\u001b[1;32m    461\u001b[0m     \u001b[0;31m# Create the parser.\u001b[0m\u001b[0;34m\u001b[0m\u001b[0;34m\u001b[0m\u001b[0;34m\u001b[0m\u001b[0m\n\u001b[0;32m--> 462\u001b[0;31m     \u001b[0mparser\u001b[0m \u001b[0;34m=\u001b[0m \u001b[0mTextFileReader\u001b[0m\u001b[0;34m(\u001b[0m\u001b[0mfilepath_or_buffer\u001b[0m\u001b[0;34m,\u001b[0m \u001b[0;34m**\u001b[0m\u001b[0mkwds\u001b[0m\u001b[0;34m)\u001b[0m\u001b[0;34m\u001b[0m\u001b[0;34m\u001b[0m\u001b[0m\n\u001b[0m\u001b[1;32m    463\u001b[0m \u001b[0;34m\u001b[0m\u001b[0m\n\u001b[1;32m    464\u001b[0m     \u001b[0;32mif\u001b[0m \u001b[0mchunksize\u001b[0m \u001b[0;32mor\u001b[0m \u001b[0miterator\u001b[0m\u001b[0;34m:\u001b[0m\u001b[0;34m\u001b[0m\u001b[0;34m\u001b[0m\u001b[0m\n",
      "\u001b[0;32m/shared-libs/python3.7/py/lib/python3.7/site-packages/pandas/io/parsers.py\u001b[0m in \u001b[0;36m__init__\u001b[0;34m(self, f, engine, **kwds)\u001b[0m\n\u001b[1;32m    817\u001b[0m             \u001b[0mself\u001b[0m\u001b[0;34m.\u001b[0m\u001b[0moptions\u001b[0m\u001b[0;34m[\u001b[0m\u001b[0;34m\"has_index_names\"\u001b[0m\u001b[0;34m]\u001b[0m \u001b[0;34m=\u001b[0m \u001b[0mkwds\u001b[0m\u001b[0;34m[\u001b[0m\u001b[0;34m\"has_index_names\"\u001b[0m\u001b[0;34m]\u001b[0m\u001b[0;34m\u001b[0m\u001b[0;34m\u001b[0m\u001b[0m\n\u001b[1;32m    818\u001b[0m \u001b[0;34m\u001b[0m\u001b[0m\n\u001b[0;32m--> 819\u001b[0;31m         \u001b[0mself\u001b[0m\u001b[0;34m.\u001b[0m\u001b[0m_engine\u001b[0m \u001b[0;34m=\u001b[0m \u001b[0mself\u001b[0m\u001b[0;34m.\u001b[0m\u001b[0m_make_engine\u001b[0m\u001b[0;34m(\u001b[0m\u001b[0mself\u001b[0m\u001b[0;34m.\u001b[0m\u001b[0mengine\u001b[0m\u001b[0;34m)\u001b[0m\u001b[0;34m\u001b[0m\u001b[0;34m\u001b[0m\u001b[0m\n\u001b[0m\u001b[1;32m    820\u001b[0m \u001b[0;34m\u001b[0m\u001b[0m\n\u001b[1;32m    821\u001b[0m     \u001b[0;32mdef\u001b[0m \u001b[0mclose\u001b[0m\u001b[0;34m(\u001b[0m\u001b[0mself\u001b[0m\u001b[0;34m)\u001b[0m\u001b[0;34m:\u001b[0m\u001b[0;34m\u001b[0m\u001b[0;34m\u001b[0m\u001b[0m\n",
      "\u001b[0;32m/shared-libs/python3.7/py/lib/python3.7/site-packages/pandas/io/parsers.py\u001b[0m in \u001b[0;36m_make_engine\u001b[0;34m(self, engine)\u001b[0m\n\u001b[1;32m   1048\u001b[0m             )\n\u001b[1;32m   1049\u001b[0m         \u001b[0;31m# error: Too many arguments for \"ParserBase\"\u001b[0m\u001b[0;34m\u001b[0m\u001b[0;34m\u001b[0m\u001b[0;34m\u001b[0m\u001b[0m\n\u001b[0;32m-> 1050\u001b[0;31m         \u001b[0;32mreturn\u001b[0m \u001b[0mmapping\u001b[0m\u001b[0;34m[\u001b[0m\u001b[0mengine\u001b[0m\u001b[0;34m]\u001b[0m\u001b[0;34m(\u001b[0m\u001b[0mself\u001b[0m\u001b[0;34m.\u001b[0m\u001b[0mf\u001b[0m\u001b[0;34m,\u001b[0m \u001b[0;34m**\u001b[0m\u001b[0mself\u001b[0m\u001b[0;34m.\u001b[0m\u001b[0moptions\u001b[0m\u001b[0;34m)\u001b[0m  \u001b[0;31m# type: ignore[call-arg]\u001b[0m\u001b[0;34m\u001b[0m\u001b[0;34m\u001b[0m\u001b[0m\n\u001b[0m\u001b[1;32m   1051\u001b[0m \u001b[0;34m\u001b[0m\u001b[0m\n\u001b[1;32m   1052\u001b[0m     \u001b[0;32mdef\u001b[0m \u001b[0m_failover_to_python\u001b[0m\u001b[0;34m(\u001b[0m\u001b[0mself\u001b[0m\u001b[0;34m)\u001b[0m\u001b[0;34m:\u001b[0m\u001b[0;34m\u001b[0m\u001b[0;34m\u001b[0m\u001b[0m\n",
      "\u001b[0;32m/shared-libs/python3.7/py/lib/python3.7/site-packages/pandas/io/parsers.py\u001b[0m in \u001b[0;36m__init__\u001b[0;34m(self, src, **kwds)\u001b[0m\n\u001b[1;32m   1865\u001b[0m \u001b[0;34m\u001b[0m\u001b[0m\n\u001b[1;32m   1866\u001b[0m         \u001b[0;31m# open handles\u001b[0m\u001b[0;34m\u001b[0m\u001b[0;34m\u001b[0m\u001b[0;34m\u001b[0m\u001b[0m\n\u001b[0;32m-> 1867\u001b[0;31m         \u001b[0mself\u001b[0m\u001b[0;34m.\u001b[0m\u001b[0m_open_handles\u001b[0m\u001b[0;34m(\u001b[0m\u001b[0msrc\u001b[0m\u001b[0;34m,\u001b[0m \u001b[0mkwds\u001b[0m\u001b[0;34m)\u001b[0m\u001b[0;34m\u001b[0m\u001b[0;34m\u001b[0m\u001b[0m\n\u001b[0m\u001b[1;32m   1868\u001b[0m         \u001b[0;32massert\u001b[0m \u001b[0mself\u001b[0m\u001b[0;34m.\u001b[0m\u001b[0mhandles\u001b[0m \u001b[0;32mis\u001b[0m \u001b[0;32mnot\u001b[0m \u001b[0;32mNone\u001b[0m\u001b[0;34m\u001b[0m\u001b[0;34m\u001b[0m\u001b[0m\n\u001b[1;32m   1869\u001b[0m         \u001b[0;32mfor\u001b[0m \u001b[0mkey\u001b[0m \u001b[0;32min\u001b[0m \u001b[0;34m(\u001b[0m\u001b[0;34m\"storage_options\"\u001b[0m\u001b[0;34m,\u001b[0m \u001b[0;34m\"encoding\"\u001b[0m\u001b[0;34m,\u001b[0m \u001b[0;34m\"memory_map\"\u001b[0m\u001b[0;34m,\u001b[0m \u001b[0;34m\"compression\"\u001b[0m\u001b[0;34m)\u001b[0m\u001b[0;34m:\u001b[0m\u001b[0;34m\u001b[0m\u001b[0;34m\u001b[0m\u001b[0m\n",
      "\u001b[0;32m/shared-libs/python3.7/py/lib/python3.7/site-packages/pandas/io/parsers.py\u001b[0m in \u001b[0;36m_open_handles\u001b[0;34m(self, src, kwds)\u001b[0m\n\u001b[1;32m   1366\u001b[0m             \u001b[0mcompression\u001b[0m\u001b[0;34m=\u001b[0m\u001b[0mkwds\u001b[0m\u001b[0;34m.\u001b[0m\u001b[0mget\u001b[0m\u001b[0;34m(\u001b[0m\u001b[0;34m\"compression\"\u001b[0m\u001b[0;34m,\u001b[0m \u001b[0;32mNone\u001b[0m\u001b[0;34m)\u001b[0m\u001b[0;34m,\u001b[0m\u001b[0;34m\u001b[0m\u001b[0;34m\u001b[0m\u001b[0m\n\u001b[1;32m   1367\u001b[0m             \u001b[0mmemory_map\u001b[0m\u001b[0;34m=\u001b[0m\u001b[0mkwds\u001b[0m\u001b[0;34m.\u001b[0m\u001b[0mget\u001b[0m\u001b[0;34m(\u001b[0m\u001b[0;34m\"memory_map\"\u001b[0m\u001b[0;34m,\u001b[0m \u001b[0;32mFalse\u001b[0m\u001b[0;34m)\u001b[0m\u001b[0;34m,\u001b[0m\u001b[0;34m\u001b[0m\u001b[0;34m\u001b[0m\u001b[0m\n\u001b[0;32m-> 1368\u001b[0;31m             \u001b[0mstorage_options\u001b[0m\u001b[0;34m=\u001b[0m\u001b[0mkwds\u001b[0m\u001b[0;34m.\u001b[0m\u001b[0mget\u001b[0m\u001b[0;34m(\u001b[0m\u001b[0;34m\"storage_options\"\u001b[0m\u001b[0;34m,\u001b[0m \u001b[0;32mNone\u001b[0m\u001b[0;34m)\u001b[0m\u001b[0;34m,\u001b[0m\u001b[0;34m\u001b[0m\u001b[0;34m\u001b[0m\u001b[0m\n\u001b[0m\u001b[1;32m   1369\u001b[0m         )\n\u001b[1;32m   1370\u001b[0m \u001b[0;34m\u001b[0m\u001b[0m\n",
      "\u001b[0;32m/shared-libs/python3.7/py/lib/python3.7/site-packages/pandas/io/common.py\u001b[0m in \u001b[0;36mget_handle\u001b[0;34m(path_or_buf, mode, encoding, compression, memory_map, is_text, errors, storage_options)\u001b[0m\n\u001b[1;32m    650\u001b[0m                 \u001b[0mencoding\u001b[0m\u001b[0;34m=\u001b[0m\u001b[0mioargs\u001b[0m\u001b[0;34m.\u001b[0m\u001b[0mencoding\u001b[0m\u001b[0;34m,\u001b[0m\u001b[0;34m\u001b[0m\u001b[0;34m\u001b[0m\u001b[0m\n\u001b[1;32m    651\u001b[0m                 \u001b[0merrors\u001b[0m\u001b[0;34m=\u001b[0m\u001b[0merrors\u001b[0m\u001b[0;34m,\u001b[0m\u001b[0;34m\u001b[0m\u001b[0;34m\u001b[0m\u001b[0m\n\u001b[0;32m--> 652\u001b[0;31m                 \u001b[0mnewline\u001b[0m\u001b[0;34m=\u001b[0m\u001b[0;34m\"\"\u001b[0m\u001b[0;34m,\u001b[0m\u001b[0;34m\u001b[0m\u001b[0;34m\u001b[0m\u001b[0m\n\u001b[0m\u001b[1;32m    653\u001b[0m             )\n\u001b[1;32m    654\u001b[0m         \u001b[0;32melse\u001b[0m\u001b[0;34m:\u001b[0m\u001b[0;34m\u001b[0m\u001b[0;34m\u001b[0m\u001b[0m\n",
      "\u001b[0;31mFileNotFoundError\u001b[0m: [Errno 2] No such file or directory: 'C:/Users/Umaima/Untitled Folder/bank_data.csv'"
     ]
    }
   ]
  },
  {
   "cell_type": "markdown",
   "source": "### Loading and preprocessing the data using Numpy or Pandas and the preprocessing functions from scikit-learn. Specifically, you need to separate the target attribute (\"pep\") from the portion of the data to be used for training and testing. You will need to convert the selected dataset into the Standard Spreadsheet format (scikit-learn functions generally assume that all attributes are in numeric form).Finally, you need to split the transformed data into training and test sets (using 80%-20% randomized split).",
   "metadata": {
    "cell_id": "00002-1b332fd0-4a41-4a22-95f7-b9c9b00e9411",
    "deepnote_app_coordinates": {
     "x": 0,
     "y": 12,
     "w": 12,
     "h": 5
    },
    "deepnote_cell_type": "markdown"
   }
  },
  {
   "cell_type": "code",
   "metadata": {
    "cell_id": "00003-25d97f0d-3c3c-4793-9eb1-d2c0f5bf748b",
    "deepnote_to_be_reexecuted": true,
    "source_hash": "e864283e",
    "deepnote_app_coordinates": {
     "x": 0,
     "y": 18,
     "w": 12,
     "h": 5
    },
    "deepnote_output_heights": [
     21.1875
    ],
    "deepnote_cell_type": "code"
   },
   "source": "\ndf.shape",
   "execution_count": null,
   "outputs": [
    {
     "data": {
      "text/plain": "(600, 11)"
     },
     "execution_count": 75,
     "metadata": {},
     "output_type": "execute_result"
    }
   ]
  },
  {
   "cell_type": "code",
   "metadata": {
    "cell_id": "00004-73931514-faf1-4342-ac96-34a0f55102a8",
    "deepnote_to_be_reexecuted": true,
    "source_hash": "e154d90",
    "deepnote_app_coordinates": {
     "x": 0,
     "y": 24,
     "w": 12,
     "h": 5
    },
    "deepnote_output_heights": [
     350.953125
    ],
    "deepnote_cell_type": "code"
   },
   "source": "vs = df.reindex(np.random.permutation(df.index))\nvs.head(10)",
   "execution_count": null,
   "outputs": [
    {
     "data": {
      "text/html": "<div>\n<style scoped>\n    .dataframe tbody tr th:only-of-type {\n        vertical-align: middle;\n    }\n\n    .dataframe tbody tr th {\n        vertical-align: top;\n    }\n\n    .dataframe thead th {\n        text-align: right;\n    }\n</style>\n<table border=\"1\" class=\"dataframe\">\n  <thead>\n    <tr style=\"text-align: right;\">\n      <th></th>\n      <th>age</th>\n      <th>income</th>\n      <th>children</th>\n      <th>gender</th>\n      <th>region</th>\n      <th>married</th>\n      <th>car</th>\n      <th>savings_acct</th>\n      <th>current_acct</th>\n      <th>mortgage</th>\n      <th>pep</th>\n    </tr>\n    <tr>\n      <th>id</th>\n      <th></th>\n      <th></th>\n      <th></th>\n      <th></th>\n      <th></th>\n      <th></th>\n      <th></th>\n      <th></th>\n      <th></th>\n      <th></th>\n      <th></th>\n    </tr>\n  </thead>\n  <tbody>\n    <tr>\n      <th>ID12138</th>\n      <td>36</td>\n      <td>13381.0</td>\n      <td>0</td>\n      <td>FEMALE</td>\n      <td>RURAL</td>\n      <td>NO</td>\n      <td>YES</td>\n      <td>NO</td>\n      <td>YES</td>\n      <td>NO</td>\n      <td>YES</td>\n    </tr>\n    <tr>\n      <th>ID12444</th>\n      <td>51</td>\n      <td>19416.8</td>\n      <td>0</td>\n      <td>FEMALE</td>\n      <td>INNER_CITY</td>\n      <td>YES</td>\n      <td>NO</td>\n      <td>YES</td>\n      <td>YES</td>\n      <td>NO</td>\n      <td>NO</td>\n    </tr>\n    <tr>\n      <th>ID12629</th>\n      <td>30</td>\n      <td>25830.5</td>\n      <td>2</td>\n      <td>FEMALE</td>\n      <td>INNER_CITY</td>\n      <td>YES</td>\n      <td>NO</td>\n      <td>NO</td>\n      <td>YES</td>\n      <td>NO</td>\n      <td>NO</td>\n    </tr>\n    <tr>\n      <th>ID12405</th>\n      <td>67</td>\n      <td>57398.1</td>\n      <td>3</td>\n      <td>FEMALE</td>\n      <td>RURAL</td>\n      <td>NO</td>\n      <td>NO</td>\n      <td>YES</td>\n      <td>YES</td>\n      <td>NO</td>\n      <td>YES</td>\n    </tr>\n    <tr>\n      <th>ID12585</th>\n      <td>28</td>\n      <td>21184.7</td>\n      <td>1</td>\n      <td>FEMALE</td>\n      <td>INNER_CITY</td>\n      <td>YES</td>\n      <td>YES</td>\n      <td>YES</td>\n      <td>YES</td>\n      <td>NO</td>\n      <td>YES</td>\n    </tr>\n    <tr>\n      <th>ID12689</th>\n      <td>58</td>\n      <td>49673.6</td>\n      <td>0</td>\n      <td>MALE</td>\n      <td>RURAL</td>\n      <td>YES</td>\n      <td>NO</td>\n      <td>YES</td>\n      <td>YES</td>\n      <td>NO</td>\n      <td>NO</td>\n    </tr>\n    <tr>\n      <th>ID12496</th>\n      <td>67</td>\n      <td>23485.9</td>\n      <td>3</td>\n      <td>FEMALE</td>\n      <td>TOWN</td>\n      <td>YES</td>\n      <td>YES</td>\n      <td>NO</td>\n      <td>NO</td>\n      <td>YES</td>\n      <td>NO</td>\n    </tr>\n    <tr>\n      <th>ID12325</th>\n      <td>57</td>\n      <td>49874.4</td>\n      <td>3</td>\n      <td>MALE</td>\n      <td>RURAL</td>\n      <td>YES</td>\n      <td>NO</td>\n      <td>YES</td>\n      <td>YES</td>\n      <td>NO</td>\n      <td>YES</td>\n    </tr>\n    <tr>\n      <th>ID12659</th>\n      <td>38</td>\n      <td>31290.6</td>\n      <td>0</td>\n      <td>FEMALE</td>\n      <td>SUBURBAN</td>\n      <td>YES</td>\n      <td>NO</td>\n      <td>YES</td>\n      <td>YES</td>\n      <td>NO</td>\n      <td>NO</td>\n    </tr>\n    <tr>\n      <th>ID12198</th>\n      <td>34</td>\n      <td>30870.8</td>\n      <td>2</td>\n      <td>MALE</td>\n      <td>TOWN</td>\n      <td>YES</td>\n      <td>YES</td>\n      <td>YES</td>\n      <td>YES</td>\n      <td>YES</td>\n      <td>YES</td>\n    </tr>\n  </tbody>\n</table>\n</div>",
      "text/plain": "         age   income  children  gender      region married  car savings_acct  \\\nid                                                                              \nID12138   36  13381.0         0  FEMALE       RURAL      NO  YES           NO   \nID12444   51  19416.8         0  FEMALE  INNER_CITY     YES   NO          YES   \nID12629   30  25830.5         2  FEMALE  INNER_CITY     YES   NO           NO   \nID12405   67  57398.1         3  FEMALE       RURAL      NO   NO          YES   \nID12585   28  21184.7         1  FEMALE  INNER_CITY     YES  YES          YES   \nID12689   58  49673.6         0    MALE       RURAL     YES   NO          YES   \nID12496   67  23485.9         3  FEMALE        TOWN     YES  YES           NO   \nID12325   57  49874.4         3    MALE       RURAL     YES   NO          YES   \nID12659   38  31290.6         0  FEMALE    SUBURBAN     YES   NO          YES   \nID12198   34  30870.8         2    MALE        TOWN     YES  YES          YES   \n\n        current_acct mortgage  pep  \nid                                  \nID12138          YES       NO  YES  \nID12444          YES       NO   NO  \nID12629          YES       NO   NO  \nID12405          YES       NO  YES  \nID12585          YES       NO  YES  \nID12689          YES       NO   NO  \nID12496           NO      YES   NO  \nID12325          YES       NO  YES  \nID12659          YES       NO   NO  \nID12198          YES      YES  YES  "
     },
     "execution_count": 76,
     "metadata": {},
     "output_type": "execute_result"
    }
   ]
  },
  {
   "cell_type": "code",
   "metadata": {
    "cell_id": "00005-e69fc4b8-9fd1-4b48-808a-743f751f9dca",
    "deepnote_to_be_reexecuted": true,
    "source_hash": "6a27211c",
    "deepnote_app_coordinates": {
     "x": 0,
     "y": 30,
     "w": 12,
     "h": 5
    },
    "deepnote_output_heights": [
     40.390625
    ],
    "deepnote_cell_type": "code"
   },
   "source": "vs_names = vs.columns.values\nvs_names",
   "execution_count": null,
   "outputs": [
    {
     "data": {
      "text/plain": "array(['age', 'income', 'children', 'gender', 'region', 'married', 'car',\n       'savings_acct', 'current_acct', 'mortgage', 'pep'], dtype=object)"
     },
     "execution_count": 77,
     "metadata": {},
     "output_type": "execute_result"
    }
   ]
  },
  {
   "cell_type": "code",
   "metadata": {
    "cell_id": "00006-71454a15-5500-4926-914d-24f7c2ad49ae",
    "deepnote_to_be_reexecuted": true,
    "source_hash": "52b39cd4",
    "deepnote_app_coordinates": {
     "x": 0,
     "y": 36,
     "w": 12,
     "h": 5
    },
    "deepnote_cell_type": "code"
   },
   "source": "vs_target = vs.pep\n",
   "execution_count": null,
   "outputs": []
  },
  {
   "cell_type": "code",
   "metadata": {
    "cell_id": "00007-9d1b1746-4c05-4ba2-b06f-87d6ea09c1b7",
    "deepnote_to_be_reexecuted": true,
    "source_hash": "52430027",
    "deepnote_app_coordinates": {
     "x": 0,
     "y": 42,
     "w": 12,
     "h": 5
    },
    "deepnote_output_heights": [
     232.375
    ],
    "deepnote_cell_type": "code"
   },
   "source": "df.dtypes",
   "execution_count": null,
   "outputs": [
    {
     "data": {
      "text/plain": "age               int64\nincome          float64\nchildren          int64\ngender           object\nregion           object\nmarried          object\ncar              object\nsavings_acct     object\ncurrent_acct     object\nmortgage         object\npep              object\ndtype: object"
     },
     "execution_count": 79,
     "metadata": {},
     "output_type": "execute_result"
    }
   ]
  },
  {
   "cell_type": "code",
   "metadata": {
    "cell_id": "00008-cf2f8e89-0b2f-4c71-9721-5925ae98388c",
    "deepnote_to_be_reexecuted": true,
    "source_hash": "d0d066a2",
    "deepnote_app_coordinates": {
     "x": 0,
     "y": 48,
     "w": 12,
     "h": 5
    },
    "deepnote_output_heights": [
     382.140625
    ],
    "deepnote_cell_type": "code"
   },
   "source": "vs = pd.get_dummies(df) #generating dummy data\nvs.head(10)",
   "execution_count": null,
   "outputs": [
    {
     "data": {
      "text/html": "<div>\n<style scoped>\n    .dataframe tbody tr th:only-of-type {\n        vertical-align: middle;\n    }\n\n    .dataframe tbody tr th {\n        vertical-align: top;\n    }\n\n    .dataframe thead th {\n        text-align: right;\n    }\n</style>\n<table border=\"1\" class=\"dataframe\">\n  <thead>\n    <tr style=\"text-align: right;\">\n      <th></th>\n      <th>age</th>\n      <th>income</th>\n      <th>children</th>\n      <th>gender_FEMALE</th>\n      <th>gender_MALE</th>\n      <th>region_INNER_CITY</th>\n      <th>region_RURAL</th>\n      <th>region_SUBURBAN</th>\n      <th>region_TOWN</th>\n      <th>married_NO</th>\n      <th>...</th>\n      <th>car_NO</th>\n      <th>car_YES</th>\n      <th>savings_acct_NO</th>\n      <th>savings_acct_YES</th>\n      <th>current_acct_NO</th>\n      <th>current_acct_YES</th>\n      <th>mortgage_NO</th>\n      <th>mortgage_YES</th>\n      <th>pep_NO</th>\n      <th>pep_YES</th>\n    </tr>\n    <tr>\n      <th>id</th>\n      <th></th>\n      <th></th>\n      <th></th>\n      <th></th>\n      <th></th>\n      <th></th>\n      <th></th>\n      <th></th>\n      <th></th>\n      <th></th>\n      <th></th>\n      <th></th>\n      <th></th>\n      <th></th>\n      <th></th>\n      <th></th>\n      <th></th>\n      <th></th>\n      <th></th>\n      <th></th>\n      <th></th>\n    </tr>\n  </thead>\n  <tbody>\n    <tr>\n      <th>ID12101</th>\n      <td>48</td>\n      <td>17546.00</td>\n      <td>1</td>\n      <td>1</td>\n      <td>0</td>\n      <td>1</td>\n      <td>0</td>\n      <td>0</td>\n      <td>0</td>\n      <td>1</td>\n      <td>...</td>\n      <td>1</td>\n      <td>0</td>\n      <td>1</td>\n      <td>0</td>\n      <td>1</td>\n      <td>0</td>\n      <td>1</td>\n      <td>0</td>\n      <td>0</td>\n      <td>1</td>\n    </tr>\n    <tr>\n      <th>ID12102</th>\n      <td>40</td>\n      <td>30085.10</td>\n      <td>3</td>\n      <td>0</td>\n      <td>1</td>\n      <td>0</td>\n      <td>0</td>\n      <td>0</td>\n      <td>1</td>\n      <td>0</td>\n      <td>...</td>\n      <td>0</td>\n      <td>1</td>\n      <td>1</td>\n      <td>0</td>\n      <td>0</td>\n      <td>1</td>\n      <td>0</td>\n      <td>1</td>\n      <td>1</td>\n      <td>0</td>\n    </tr>\n    <tr>\n      <th>ID12103</th>\n      <td>51</td>\n      <td>16575.40</td>\n      <td>0</td>\n      <td>1</td>\n      <td>0</td>\n      <td>1</td>\n      <td>0</td>\n      <td>0</td>\n      <td>0</td>\n      <td>0</td>\n      <td>...</td>\n      <td>0</td>\n      <td>1</td>\n      <td>0</td>\n      <td>1</td>\n      <td>0</td>\n      <td>1</td>\n      <td>1</td>\n      <td>0</td>\n      <td>1</td>\n      <td>0</td>\n    </tr>\n    <tr>\n      <th>ID12104</th>\n      <td>23</td>\n      <td>20375.40</td>\n      <td>3</td>\n      <td>1</td>\n      <td>0</td>\n      <td>0</td>\n      <td>0</td>\n      <td>0</td>\n      <td>1</td>\n      <td>0</td>\n      <td>...</td>\n      <td>1</td>\n      <td>0</td>\n      <td>1</td>\n      <td>0</td>\n      <td>0</td>\n      <td>1</td>\n      <td>1</td>\n      <td>0</td>\n      <td>1</td>\n      <td>0</td>\n    </tr>\n    <tr>\n      <th>ID12105</th>\n      <td>57</td>\n      <td>50576.30</td>\n      <td>0</td>\n      <td>1</td>\n      <td>0</td>\n      <td>0</td>\n      <td>1</td>\n      <td>0</td>\n      <td>0</td>\n      <td>0</td>\n      <td>...</td>\n      <td>1</td>\n      <td>0</td>\n      <td>0</td>\n      <td>1</td>\n      <td>1</td>\n      <td>0</td>\n      <td>1</td>\n      <td>0</td>\n      <td>1</td>\n      <td>0</td>\n    </tr>\n    <tr>\n      <th>ID12106</th>\n      <td>57</td>\n      <td>37869.60</td>\n      <td>2</td>\n      <td>1</td>\n      <td>0</td>\n      <td>0</td>\n      <td>0</td>\n      <td>0</td>\n      <td>1</td>\n      <td>0</td>\n      <td>...</td>\n      <td>1</td>\n      <td>0</td>\n      <td>0</td>\n      <td>1</td>\n      <td>0</td>\n      <td>1</td>\n      <td>1</td>\n      <td>0</td>\n      <td>0</td>\n      <td>1</td>\n    </tr>\n    <tr>\n      <th>ID12107</th>\n      <td>22</td>\n      <td>8877.07</td>\n      <td>0</td>\n      <td>0</td>\n      <td>1</td>\n      <td>0</td>\n      <td>1</td>\n      <td>0</td>\n      <td>0</td>\n      <td>1</td>\n      <td>...</td>\n      <td>1</td>\n      <td>0</td>\n      <td>1</td>\n      <td>0</td>\n      <td>0</td>\n      <td>1</td>\n      <td>1</td>\n      <td>0</td>\n      <td>0</td>\n      <td>1</td>\n    </tr>\n    <tr>\n      <th>ID12108</th>\n      <td>58</td>\n      <td>24946.60</td>\n      <td>0</td>\n      <td>0</td>\n      <td>1</td>\n      <td>0</td>\n      <td>0</td>\n      <td>0</td>\n      <td>1</td>\n      <td>0</td>\n      <td>...</td>\n      <td>0</td>\n      <td>1</td>\n      <td>0</td>\n      <td>1</td>\n      <td>0</td>\n      <td>1</td>\n      <td>1</td>\n      <td>0</td>\n      <td>1</td>\n      <td>0</td>\n    </tr>\n    <tr>\n      <th>ID12109</th>\n      <td>37</td>\n      <td>25304.30</td>\n      <td>2</td>\n      <td>1</td>\n      <td>0</td>\n      <td>0</td>\n      <td>0</td>\n      <td>1</td>\n      <td>0</td>\n      <td>0</td>\n      <td>...</td>\n      <td>0</td>\n      <td>1</td>\n      <td>1</td>\n      <td>0</td>\n      <td>1</td>\n      <td>0</td>\n      <td>1</td>\n      <td>0</td>\n      <td>1</td>\n      <td>0</td>\n    </tr>\n    <tr>\n      <th>ID12110</th>\n      <td>54</td>\n      <td>24212.10</td>\n      <td>2</td>\n      <td>0</td>\n      <td>1</td>\n      <td>0</td>\n      <td>0</td>\n      <td>0</td>\n      <td>1</td>\n      <td>0</td>\n      <td>...</td>\n      <td>0</td>\n      <td>1</td>\n      <td>0</td>\n      <td>1</td>\n      <td>0</td>\n      <td>1</td>\n      <td>1</td>\n      <td>0</td>\n      <td>1</td>\n      <td>0</td>\n    </tr>\n  </tbody>\n</table>\n<p>10 rows × 21 columns</p>\n</div>",
      "text/plain": "         age    income  children  gender_FEMALE  gender_MALE  \\\nid                                                             \nID12101   48  17546.00         1              1            0   \nID12102   40  30085.10         3              0            1   \nID12103   51  16575.40         0              1            0   \nID12104   23  20375.40         3              1            0   \nID12105   57  50576.30         0              1            0   \nID12106   57  37869.60         2              1            0   \nID12107   22   8877.07         0              0            1   \nID12108   58  24946.60         0              0            1   \nID12109   37  25304.30         2              1            0   \nID12110   54  24212.10         2              0            1   \n\n         region_INNER_CITY  region_RURAL  region_SUBURBAN  region_TOWN  \\\nid                                                                       \nID12101                  1             0                0            0   \nID12102                  0             0                0            1   \nID12103                  1             0                0            0   \nID12104                  0             0                0            1   \nID12105                  0             1                0            0   \nID12106                  0             0                0            1   \nID12107                  0             1                0            0   \nID12108                  0             0                0            1   \nID12109                  0             0                1            0   \nID12110                  0             0                0            1   \n\n         married_NO  ...  car_NO  car_YES  savings_acct_NO  savings_acct_YES  \\\nid                   ...                                                       \nID12101           1  ...       1        0                1                 0   \nID12102           0  ...       0        1                1                 0   \nID12103           0  ...       0        1                0                 1   \nID12104           0  ...       1        0                1                 0   \nID12105           0  ...       1        0                0                 1   \nID12106           0  ...       1        0                0                 1   \nID12107           1  ...       1        0                1                 0   \nID12108           0  ...       0        1                0                 1   \nID12109           0  ...       0        1                1                 0   \nID12110           0  ...       0        1                0                 1   \n\n         current_acct_NO  current_acct_YES  mortgage_NO  mortgage_YES  pep_NO  \\\nid                                                                              \nID12101                1                 0            1             0       0   \nID12102                0                 1            0             1       1   \nID12103                0                 1            1             0       1   \nID12104                0                 1            1             0       1   \nID12105                1                 0            1             0       1   \nID12106                0                 1            1             0       0   \nID12107                0                 1            1             0       0   \nID12108                0                 1            1             0       1   \nID12109                1                 0            1             0       1   \nID12110                0                 1            1             0       1   \n\n         pep_YES  \nid                \nID12101        1  \nID12102        0  \nID12103        0  \nID12104        0  \nID12105        0  \nID12106        1  \nID12107        1  \nID12108        0  \nID12109        0  \nID12110        0  \n\n[10 rows x 21 columns]"
     },
     "execution_count": 80,
     "metadata": {},
     "output_type": "execute_result"
    }
   ]
  },
  {
   "cell_type": "code",
   "metadata": {
    "cell_id": "00009-043c4bd9-4cfa-40ba-b668-3645af058367",
    "deepnote_to_be_reexecuted": true,
    "source_hash": "938810b7",
    "deepnote_app_coordinates": {
     "x": 0,
     "y": 54,
     "w": 12,
     "h": 5
    },
    "deepnote_output_heights": [
     null,
     237.15625
    ],
    "deepnote_cell_type": "code"
   },
   "source": "from sklearn.model_selection import train_test_split\nvs_train, vs_test, vs_target_train, vs_target_test = train_test_split(vs, vs_target, test_size=0.2, random_state=33)\n\nprint (vs_test.shape)\nvs_test[0:5]",
   "execution_count": null,
   "outputs": [
    {
     "name": "stdout",
     "output_type": "stream",
     "text": "(120, 21)\n"
    },
    {
     "data": {
      "text/html": "<div>\n<style scoped>\n    .dataframe tbody tr th:only-of-type {\n        vertical-align: middle;\n    }\n\n    .dataframe tbody tr th {\n        vertical-align: top;\n    }\n\n    .dataframe thead th {\n        text-align: right;\n    }\n</style>\n<table border=\"1\" class=\"dataframe\">\n  <thead>\n    <tr style=\"text-align: right;\">\n      <th></th>\n      <th>age</th>\n      <th>income</th>\n      <th>children</th>\n      <th>gender_FEMALE</th>\n      <th>gender_MALE</th>\n      <th>region_INNER_CITY</th>\n      <th>region_RURAL</th>\n      <th>region_SUBURBAN</th>\n      <th>region_TOWN</th>\n      <th>married_NO</th>\n      <th>...</th>\n      <th>car_NO</th>\n      <th>car_YES</th>\n      <th>savings_acct_NO</th>\n      <th>savings_acct_YES</th>\n      <th>current_acct_NO</th>\n      <th>current_acct_YES</th>\n      <th>mortgage_NO</th>\n      <th>mortgage_YES</th>\n      <th>pep_NO</th>\n      <th>pep_YES</th>\n    </tr>\n    <tr>\n      <th>id</th>\n      <th></th>\n      <th></th>\n      <th></th>\n      <th></th>\n      <th></th>\n      <th></th>\n      <th></th>\n      <th></th>\n      <th></th>\n      <th></th>\n      <th></th>\n      <th></th>\n      <th></th>\n      <th></th>\n      <th></th>\n      <th></th>\n      <th></th>\n      <th></th>\n      <th></th>\n      <th></th>\n      <th></th>\n    </tr>\n  </thead>\n  <tbody>\n    <tr>\n      <th>ID12557</th>\n      <td>32</td>\n      <td>13267.6</td>\n      <td>0</td>\n      <td>1</td>\n      <td>0</td>\n      <td>0</td>\n      <td>0</td>\n      <td>0</td>\n      <td>1</td>\n      <td>0</td>\n      <td>...</td>\n      <td>0</td>\n      <td>1</td>\n      <td>0</td>\n      <td>1</td>\n      <td>0</td>\n      <td>1</td>\n      <td>0</td>\n      <td>1</td>\n      <td>1</td>\n      <td>0</td>\n    </tr>\n    <tr>\n      <th>ID12467</th>\n      <td>59</td>\n      <td>29866.9</td>\n      <td>1</td>\n      <td>1</td>\n      <td>0</td>\n      <td>1</td>\n      <td>0</td>\n      <td>0</td>\n      <td>0</td>\n      <td>1</td>\n      <td>...</td>\n      <td>0</td>\n      <td>1</td>\n      <td>1</td>\n      <td>0</td>\n      <td>0</td>\n      <td>1</td>\n      <td>1</td>\n      <td>0</td>\n      <td>0</td>\n      <td>1</td>\n    </tr>\n    <tr>\n      <th>ID12232</th>\n      <td>61</td>\n      <td>41609.5</td>\n      <td>3</td>\n      <td>0</td>\n      <td>1</td>\n      <td>0</td>\n      <td>1</td>\n      <td>0</td>\n      <td>0</td>\n      <td>0</td>\n      <td>...</td>\n      <td>1</td>\n      <td>0</td>\n      <td>0</td>\n      <td>1</td>\n      <td>0</td>\n      <td>1</td>\n      <td>0</td>\n      <td>1</td>\n      <td>1</td>\n      <td>0</td>\n    </tr>\n    <tr>\n      <th>ID12549</th>\n      <td>53</td>\n      <td>48971.6</td>\n      <td>3</td>\n      <td>0</td>\n      <td>1</td>\n      <td>0</td>\n      <td>1</td>\n      <td>0</td>\n      <td>0</td>\n      <td>0</td>\n      <td>...</td>\n      <td>0</td>\n      <td>1</td>\n      <td>0</td>\n      <td>1</td>\n      <td>1</td>\n      <td>0</td>\n      <td>1</td>\n      <td>0</td>\n      <td>0</td>\n      <td>1</td>\n    </tr>\n    <tr>\n      <th>ID12438</th>\n      <td>65</td>\n      <td>38080.9</td>\n      <td>1</td>\n      <td>0</td>\n      <td>1</td>\n      <td>1</td>\n      <td>0</td>\n      <td>0</td>\n      <td>0</td>\n      <td>0</td>\n      <td>...</td>\n      <td>0</td>\n      <td>1</td>\n      <td>0</td>\n      <td>1</td>\n      <td>1</td>\n      <td>0</td>\n      <td>0</td>\n      <td>1</td>\n      <td>1</td>\n      <td>0</td>\n    </tr>\n  </tbody>\n</table>\n<p>5 rows × 21 columns</p>\n</div>",
      "text/plain": "         age   income  children  gender_FEMALE  gender_MALE  \\\nid                                                            \nID12557   32  13267.6         0              1            0   \nID12467   59  29866.9         1              1            0   \nID12232   61  41609.5         3              0            1   \nID12549   53  48971.6         3              0            1   \nID12438   65  38080.9         1              0            1   \n\n         region_INNER_CITY  region_RURAL  region_SUBURBAN  region_TOWN  \\\nid                                                                       \nID12557                  0             0                0            1   \nID12467                  1             0                0            0   \nID12232                  0             1                0            0   \nID12549                  0             1                0            0   \nID12438                  1             0                0            0   \n\n         married_NO  ...  car_NO  car_YES  savings_acct_NO  savings_acct_YES  \\\nid                   ...                                                       \nID12557           0  ...       0        1                0                 1   \nID12467           1  ...       0        1                1                 0   \nID12232           0  ...       1        0                0                 1   \nID12549           0  ...       0        1                0                 1   \nID12438           0  ...       0        1                0                 1   \n\n         current_acct_NO  current_acct_YES  mortgage_NO  mortgage_YES  pep_NO  \\\nid                                                                              \nID12557                0                 1            0             1       1   \nID12467                0                 1            1             0       0   \nID12232                0                 1            0             1       1   \nID12549                1                 0            1             0       0   \nID12438                1                 0            0             1       1   \n\n         pep_YES  \nid                \nID12557        0  \nID12467        1  \nID12232        0  \nID12549        1  \nID12438        0  \n\n[5 rows x 21 columns]"
     },
     "execution_count": 81,
     "metadata": {},
     "output_type": "execute_result"
    }
   ]
  },
  {
   "cell_type": "code",
   "metadata": {
    "cell_id": "00010-c75a00e1-5ef4-4a55-8e9a-62cb705ff4bb",
    "deepnote_to_be_reexecuted": true,
    "source_hash": "217e6cdd",
    "deepnote_app_coordinates": {
     "x": 0,
     "y": 60,
     "w": 12,
     "h": 5
    },
    "deepnote_output_heights": [
     null,
     237.15625
    ],
    "deepnote_cell_type": "code"
   },
   "source": "print (vs_train.shape)\nvs_train[0:5]",
   "execution_count": null,
   "outputs": [
    {
     "name": "stdout",
     "output_type": "stream",
     "text": "(480, 21)\n"
    },
    {
     "data": {
      "text/html": "<div>\n<style scoped>\n    .dataframe tbody tr th:only-of-type {\n        vertical-align: middle;\n    }\n\n    .dataframe tbody tr th {\n        vertical-align: top;\n    }\n\n    .dataframe thead th {\n        text-align: right;\n    }\n</style>\n<table border=\"1\" class=\"dataframe\">\n  <thead>\n    <tr style=\"text-align: right;\">\n      <th></th>\n      <th>age</th>\n      <th>income</th>\n      <th>children</th>\n      <th>gender_FEMALE</th>\n      <th>gender_MALE</th>\n      <th>region_INNER_CITY</th>\n      <th>region_RURAL</th>\n      <th>region_SUBURBAN</th>\n      <th>region_TOWN</th>\n      <th>married_NO</th>\n      <th>...</th>\n      <th>car_NO</th>\n      <th>car_YES</th>\n      <th>savings_acct_NO</th>\n      <th>savings_acct_YES</th>\n      <th>current_acct_NO</th>\n      <th>current_acct_YES</th>\n      <th>mortgage_NO</th>\n      <th>mortgage_YES</th>\n      <th>pep_NO</th>\n      <th>pep_YES</th>\n    </tr>\n    <tr>\n      <th>id</th>\n      <th></th>\n      <th></th>\n      <th></th>\n      <th></th>\n      <th></th>\n      <th></th>\n      <th></th>\n      <th></th>\n      <th></th>\n      <th></th>\n      <th></th>\n      <th></th>\n      <th></th>\n      <th></th>\n      <th></th>\n      <th></th>\n      <th></th>\n      <th></th>\n      <th></th>\n      <th></th>\n      <th></th>\n    </tr>\n  </thead>\n  <tbody>\n    <tr>\n      <th>ID12482</th>\n      <td>46</td>\n      <td>32583.5</td>\n      <td>2</td>\n      <td>1</td>\n      <td>0</td>\n      <td>1</td>\n      <td>0</td>\n      <td>0</td>\n      <td>0</td>\n      <td>0</td>\n      <td>...</td>\n      <td>0</td>\n      <td>1</td>\n      <td>0</td>\n      <td>1</td>\n      <td>0</td>\n      <td>1</td>\n      <td>1</td>\n      <td>0</td>\n      <td>1</td>\n      <td>0</td>\n    </tr>\n    <tr>\n      <th>ID12105</th>\n      <td>57</td>\n      <td>50576.3</td>\n      <td>0</td>\n      <td>1</td>\n      <td>0</td>\n      <td>0</td>\n      <td>1</td>\n      <td>0</td>\n      <td>0</td>\n      <td>0</td>\n      <td>...</td>\n      <td>1</td>\n      <td>0</td>\n      <td>0</td>\n      <td>1</td>\n      <td>1</td>\n      <td>0</td>\n      <td>1</td>\n      <td>0</td>\n      <td>1</td>\n      <td>0</td>\n    </tr>\n    <tr>\n      <th>ID12187</th>\n      <td>25</td>\n      <td>15525.0</td>\n      <td>0</td>\n      <td>1</td>\n      <td>0</td>\n      <td>1</td>\n      <td>0</td>\n      <td>0</td>\n      <td>0</td>\n      <td>0</td>\n      <td>...</td>\n      <td>1</td>\n      <td>0</td>\n      <td>0</td>\n      <td>1</td>\n      <td>0</td>\n      <td>1</td>\n      <td>1</td>\n      <td>0</td>\n      <td>1</td>\n      <td>0</td>\n    </tr>\n    <tr>\n      <th>ID12184</th>\n      <td>35</td>\n      <td>16394.4</td>\n      <td>1</td>\n      <td>0</td>\n      <td>1</td>\n      <td>1</td>\n      <td>0</td>\n      <td>0</td>\n      <td>0</td>\n      <td>0</td>\n      <td>...</td>\n      <td>1</td>\n      <td>0</td>\n      <td>0</td>\n      <td>1</td>\n      <td>0</td>\n      <td>1</td>\n      <td>1</td>\n      <td>0</td>\n      <td>0</td>\n      <td>1</td>\n    </tr>\n    <tr>\n      <th>ID12624</th>\n      <td>34</td>\n      <td>16291.0</td>\n      <td>0</td>\n      <td>1</td>\n      <td>0</td>\n      <td>0</td>\n      <td>0</td>\n      <td>0</td>\n      <td>1</td>\n      <td>0</td>\n      <td>...</td>\n      <td>0</td>\n      <td>1</td>\n      <td>0</td>\n      <td>1</td>\n      <td>1</td>\n      <td>0</td>\n      <td>0</td>\n      <td>1</td>\n      <td>1</td>\n      <td>0</td>\n    </tr>\n  </tbody>\n</table>\n<p>5 rows × 21 columns</p>\n</div>",
      "text/plain": "         age   income  children  gender_FEMALE  gender_MALE  \\\nid                                                            \nID12482   46  32583.5         2              1            0   \nID12105   57  50576.3         0              1            0   \nID12187   25  15525.0         0              1            0   \nID12184   35  16394.4         1              0            1   \nID12624   34  16291.0         0              1            0   \n\n         region_INNER_CITY  region_RURAL  region_SUBURBAN  region_TOWN  \\\nid                                                                       \nID12482                  1             0                0            0   \nID12105                  0             1                0            0   \nID12187                  1             0                0            0   \nID12184                  1             0                0            0   \nID12624                  0             0                0            1   \n\n         married_NO  ...  car_NO  car_YES  savings_acct_NO  savings_acct_YES  \\\nid                   ...                                                       \nID12482           0  ...       0        1                0                 1   \nID12105           0  ...       1        0                0                 1   \nID12187           0  ...       1        0                0                 1   \nID12184           0  ...       1        0                0                 1   \nID12624           0  ...       0        1                0                 1   \n\n         current_acct_NO  current_acct_YES  mortgage_NO  mortgage_YES  pep_NO  \\\nid                                                                              \nID12482                0                 1            1             0       1   \nID12105                1                 0            1             0       1   \nID12187                0                 1            1             0       1   \nID12184                0                 1            1             0       0   \nID12624                1                 0            0             1       1   \n\n         pep_YES  \nid                \nID12482        0  \nID12105        0  \nID12187        0  \nID12184        1  \nID12624        0  \n\n[5 rows x 21 columns]"
     },
     "execution_count": 82,
     "metadata": {},
     "output_type": "execute_result"
    }
   ]
  },
  {
   "cell_type": "code",
   "metadata": {
    "cell_id": "00011-792e480f-8820-472b-ab0e-f58a83a51c85",
    "deepnote_to_be_reexecuted": true,
    "source_hash": "e9e433ab",
    "deepnote_app_coordinates": {
     "x": 0,
     "y": 66,
     "w": 12,
     "h": 5
    },
    "deepnote_output_heights": [
     382.140625
    ],
    "deepnote_cell_type": "code"
   },
   "source": "np.set_printoptions(suppress=True, linewidth=120)\n\nvs_train.head(10)",
   "execution_count": null,
   "outputs": [
    {
     "data": {
      "text/html": "<div>\n<style scoped>\n    .dataframe tbody tr th:only-of-type {\n        vertical-align: middle;\n    }\n\n    .dataframe tbody tr th {\n        vertical-align: top;\n    }\n\n    .dataframe thead th {\n        text-align: right;\n    }\n</style>\n<table border=\"1\" class=\"dataframe\">\n  <thead>\n    <tr style=\"text-align: right;\">\n      <th></th>\n      <th>age</th>\n      <th>income</th>\n      <th>children</th>\n      <th>gender_FEMALE</th>\n      <th>gender_MALE</th>\n      <th>region_INNER_CITY</th>\n      <th>region_RURAL</th>\n      <th>region_SUBURBAN</th>\n      <th>region_TOWN</th>\n      <th>married_NO</th>\n      <th>...</th>\n      <th>car_NO</th>\n      <th>car_YES</th>\n      <th>savings_acct_NO</th>\n      <th>savings_acct_YES</th>\n      <th>current_acct_NO</th>\n      <th>current_acct_YES</th>\n      <th>mortgage_NO</th>\n      <th>mortgage_YES</th>\n      <th>pep_NO</th>\n      <th>pep_YES</th>\n    </tr>\n    <tr>\n      <th>id</th>\n      <th></th>\n      <th></th>\n      <th></th>\n      <th></th>\n      <th></th>\n      <th></th>\n      <th></th>\n      <th></th>\n      <th></th>\n      <th></th>\n      <th></th>\n      <th></th>\n      <th></th>\n      <th></th>\n      <th></th>\n      <th></th>\n      <th></th>\n      <th></th>\n      <th></th>\n      <th></th>\n      <th></th>\n    </tr>\n  </thead>\n  <tbody>\n    <tr>\n      <th>ID12482</th>\n      <td>46</td>\n      <td>32583.50</td>\n      <td>2</td>\n      <td>1</td>\n      <td>0</td>\n      <td>1</td>\n      <td>0</td>\n      <td>0</td>\n      <td>0</td>\n      <td>0</td>\n      <td>...</td>\n      <td>0</td>\n      <td>1</td>\n      <td>0</td>\n      <td>1</td>\n      <td>0</td>\n      <td>1</td>\n      <td>1</td>\n      <td>0</td>\n      <td>1</td>\n      <td>0</td>\n    </tr>\n    <tr>\n      <th>ID12105</th>\n      <td>57</td>\n      <td>50576.30</td>\n      <td>0</td>\n      <td>1</td>\n      <td>0</td>\n      <td>0</td>\n      <td>1</td>\n      <td>0</td>\n      <td>0</td>\n      <td>0</td>\n      <td>...</td>\n      <td>1</td>\n      <td>0</td>\n      <td>0</td>\n      <td>1</td>\n      <td>1</td>\n      <td>0</td>\n      <td>1</td>\n      <td>0</td>\n      <td>1</td>\n      <td>0</td>\n    </tr>\n    <tr>\n      <th>ID12187</th>\n      <td>25</td>\n      <td>15525.00</td>\n      <td>0</td>\n      <td>1</td>\n      <td>0</td>\n      <td>1</td>\n      <td>0</td>\n      <td>0</td>\n      <td>0</td>\n      <td>0</td>\n      <td>...</td>\n      <td>1</td>\n      <td>0</td>\n      <td>0</td>\n      <td>1</td>\n      <td>0</td>\n      <td>1</td>\n      <td>1</td>\n      <td>0</td>\n      <td>1</td>\n      <td>0</td>\n    </tr>\n    <tr>\n      <th>ID12184</th>\n      <td>35</td>\n      <td>16394.40</td>\n      <td>1</td>\n      <td>0</td>\n      <td>1</td>\n      <td>1</td>\n      <td>0</td>\n      <td>0</td>\n      <td>0</td>\n      <td>0</td>\n      <td>...</td>\n      <td>1</td>\n      <td>0</td>\n      <td>0</td>\n      <td>1</td>\n      <td>0</td>\n      <td>1</td>\n      <td>1</td>\n      <td>0</td>\n      <td>0</td>\n      <td>1</td>\n    </tr>\n    <tr>\n      <th>ID12624</th>\n      <td>34</td>\n      <td>16291.00</td>\n      <td>0</td>\n      <td>1</td>\n      <td>0</td>\n      <td>0</td>\n      <td>0</td>\n      <td>0</td>\n      <td>1</td>\n      <td>0</td>\n      <td>...</td>\n      <td>0</td>\n      <td>1</td>\n      <td>0</td>\n      <td>1</td>\n      <td>1</td>\n      <td>0</td>\n      <td>0</td>\n      <td>1</td>\n      <td>1</td>\n      <td>0</td>\n    </tr>\n    <tr>\n      <th>ID12376</th>\n      <td>18</td>\n      <td>9362.58</td>\n      <td>0</td>\n      <td>0</td>\n      <td>1</td>\n      <td>0</td>\n      <td>1</td>\n      <td>0</td>\n      <td>0</td>\n      <td>0</td>\n      <td>...</td>\n      <td>0</td>\n      <td>1</td>\n      <td>1</td>\n      <td>0</td>\n      <td>0</td>\n      <td>1</td>\n      <td>0</td>\n      <td>1</td>\n      <td>0</td>\n      <td>1</td>\n    </tr>\n    <tr>\n      <th>ID12700</th>\n      <td>38</td>\n      <td>26671.60</td>\n      <td>0</td>\n      <td>0</td>\n      <td>1</td>\n      <td>0</td>\n      <td>0</td>\n      <td>0</td>\n      <td>1</td>\n      <td>1</td>\n      <td>...</td>\n      <td>0</td>\n      <td>1</td>\n      <td>1</td>\n      <td>0</td>\n      <td>0</td>\n      <td>1</td>\n      <td>0</td>\n      <td>1</td>\n      <td>0</td>\n      <td>1</td>\n    </tr>\n    <tr>\n      <th>ID12361</th>\n      <td>22</td>\n      <td>17180.20</td>\n      <td>0</td>\n      <td>0</td>\n      <td>1</td>\n      <td>0</td>\n      <td>0</td>\n      <td>1</td>\n      <td>0</td>\n      <td>0</td>\n      <td>...</td>\n      <td>1</td>\n      <td>0</td>\n      <td>0</td>\n      <td>1</td>\n      <td>0</td>\n      <td>1</td>\n      <td>1</td>\n      <td>0</td>\n      <td>1</td>\n      <td>0</td>\n    </tr>\n    <tr>\n      <th>ID12675</th>\n      <td>43</td>\n      <td>28469.90</td>\n      <td>0</td>\n      <td>1</td>\n      <td>0</td>\n      <td>1</td>\n      <td>0</td>\n      <td>0</td>\n      <td>0</td>\n      <td>0</td>\n      <td>...</td>\n      <td>0</td>\n      <td>1</td>\n      <td>0</td>\n      <td>1</td>\n      <td>0</td>\n      <td>1</td>\n      <td>1</td>\n      <td>0</td>\n      <td>1</td>\n      <td>0</td>\n    </tr>\n    <tr>\n      <th>ID12363</th>\n      <td>40</td>\n      <td>21612.20</td>\n      <td>0</td>\n      <td>1</td>\n      <td>0</td>\n      <td>0</td>\n      <td>0</td>\n      <td>0</td>\n      <td>1</td>\n      <td>0</td>\n      <td>...</td>\n      <td>1</td>\n      <td>0</td>\n      <td>1</td>\n      <td>0</td>\n      <td>0</td>\n      <td>1</td>\n      <td>1</td>\n      <td>0</td>\n      <td>1</td>\n      <td>0</td>\n    </tr>\n  </tbody>\n</table>\n<p>10 rows × 21 columns</p>\n</div>",
      "text/plain": "         age    income  children  gender_FEMALE  gender_MALE  \\\nid                                                             \nID12482   46  32583.50         2              1            0   \nID12105   57  50576.30         0              1            0   \nID12187   25  15525.00         0              1            0   \nID12184   35  16394.40         1              0            1   \nID12624   34  16291.00         0              1            0   \nID12376   18   9362.58         0              0            1   \nID12700   38  26671.60         0              0            1   \nID12361   22  17180.20         0              0            1   \nID12675   43  28469.90         0              1            0   \nID12363   40  21612.20         0              1            0   \n\n         region_INNER_CITY  region_RURAL  region_SUBURBAN  region_TOWN  \\\nid                                                                       \nID12482                  1             0                0            0   \nID12105                  0             1                0            0   \nID12187                  1             0                0            0   \nID12184                  1             0                0            0   \nID12624                  0             0                0            1   \nID12376                  0             1                0            0   \nID12700                  0             0                0            1   \nID12361                  0             0                1            0   \nID12675                  1             0                0            0   \nID12363                  0             0                0            1   \n\n         married_NO  ...  car_NO  car_YES  savings_acct_NO  savings_acct_YES  \\\nid                   ...                                                       \nID12482           0  ...       0        1                0                 1   \nID12105           0  ...       1        0                0                 1   \nID12187           0  ...       1        0                0                 1   \nID12184           0  ...       1        0                0                 1   \nID12624           0  ...       0        1                0                 1   \nID12376           0  ...       0        1                1                 0   \nID12700           1  ...       0        1                1                 0   \nID12361           0  ...       1        0                0                 1   \nID12675           0  ...       0        1                0                 1   \nID12363           0  ...       1        0                1                 0   \n\n         current_acct_NO  current_acct_YES  mortgage_NO  mortgage_YES  pep_NO  \\\nid                                                                              \nID12482                0                 1            1             0       1   \nID12105                1                 0            1             0       1   \nID12187                0                 1            1             0       1   \nID12184                0                 1            1             0       0   \nID12624                1                 0            0             1       1   \nID12376                0                 1            0             1       0   \nID12700                0                 1            0             1       0   \nID12361                0                 1            1             0       1   \nID12675                0                 1            1             0       1   \nID12363                0                 1            1             0       1   \n\n         pep_YES  \nid                \nID12482        0  \nID12105        0  \nID12187        0  \nID12184        1  \nID12624        0  \nID12376        1  \nID12700        1  \nID12361        0  \nID12675        0  \nID12363        0  \n\n[10 rows x 21 columns]"
     },
     "execution_count": 83,
     "metadata": {},
     "output_type": "execute_result"
    }
   ]
  },
  {
   "cell_type": "code",
   "metadata": {
    "cell_id": "00012-608b328c-ac66-45ca-9ffc-6c037cf60423",
    "deepnote_to_be_reexecuted": true,
    "source_hash": "4a1af933",
    "deepnote_app_coordinates": {
     "x": 0,
     "y": 72,
     "w": 12,
     "h": 5
    },
    "deepnote_output_heights": [
     411.140625
    ],
    "deepnote_cell_type": "code"
   },
   "source": "vs_test",
   "execution_count": null,
   "outputs": [
    {
     "data": {
      "text/html": "<div>\n<style scoped>\n    .dataframe tbody tr th:only-of-type {\n        vertical-align: middle;\n    }\n\n    .dataframe tbody tr th {\n        vertical-align: top;\n    }\n\n    .dataframe thead th {\n        text-align: right;\n    }\n</style>\n<table border=\"1\" class=\"dataframe\">\n  <thead>\n    <tr style=\"text-align: right;\">\n      <th></th>\n      <th>age</th>\n      <th>income</th>\n      <th>children</th>\n      <th>gender_FEMALE</th>\n      <th>gender_MALE</th>\n      <th>region_INNER_CITY</th>\n      <th>region_RURAL</th>\n      <th>region_SUBURBAN</th>\n      <th>region_TOWN</th>\n      <th>married_NO</th>\n      <th>...</th>\n      <th>car_NO</th>\n      <th>car_YES</th>\n      <th>savings_acct_NO</th>\n      <th>savings_acct_YES</th>\n      <th>current_acct_NO</th>\n      <th>current_acct_YES</th>\n      <th>mortgage_NO</th>\n      <th>mortgage_YES</th>\n      <th>pep_NO</th>\n      <th>pep_YES</th>\n    </tr>\n    <tr>\n      <th>id</th>\n      <th></th>\n      <th></th>\n      <th></th>\n      <th></th>\n      <th></th>\n      <th></th>\n      <th></th>\n      <th></th>\n      <th></th>\n      <th></th>\n      <th></th>\n      <th></th>\n      <th></th>\n      <th></th>\n      <th></th>\n      <th></th>\n      <th></th>\n      <th></th>\n      <th></th>\n      <th></th>\n      <th></th>\n    </tr>\n  </thead>\n  <tbody>\n    <tr>\n      <th>ID12557</th>\n      <td>32</td>\n      <td>13267.6</td>\n      <td>0</td>\n      <td>1</td>\n      <td>0</td>\n      <td>0</td>\n      <td>0</td>\n      <td>0</td>\n      <td>1</td>\n      <td>0</td>\n      <td>...</td>\n      <td>0</td>\n      <td>1</td>\n      <td>0</td>\n      <td>1</td>\n      <td>0</td>\n      <td>1</td>\n      <td>0</td>\n      <td>1</td>\n      <td>1</td>\n      <td>0</td>\n    </tr>\n    <tr>\n      <th>ID12467</th>\n      <td>59</td>\n      <td>29866.9</td>\n      <td>1</td>\n      <td>1</td>\n      <td>0</td>\n      <td>1</td>\n      <td>0</td>\n      <td>0</td>\n      <td>0</td>\n      <td>1</td>\n      <td>...</td>\n      <td>0</td>\n      <td>1</td>\n      <td>1</td>\n      <td>0</td>\n      <td>0</td>\n      <td>1</td>\n      <td>1</td>\n      <td>0</td>\n      <td>0</td>\n      <td>1</td>\n    </tr>\n    <tr>\n      <th>ID12232</th>\n      <td>61</td>\n      <td>41609.5</td>\n      <td>3</td>\n      <td>0</td>\n      <td>1</td>\n      <td>0</td>\n      <td>1</td>\n      <td>0</td>\n      <td>0</td>\n      <td>0</td>\n      <td>...</td>\n      <td>1</td>\n      <td>0</td>\n      <td>0</td>\n      <td>1</td>\n      <td>0</td>\n      <td>1</td>\n      <td>0</td>\n      <td>1</td>\n      <td>1</td>\n      <td>0</td>\n    </tr>\n    <tr>\n      <th>ID12549</th>\n      <td>53</td>\n      <td>48971.6</td>\n      <td>3</td>\n      <td>0</td>\n      <td>1</td>\n      <td>0</td>\n      <td>1</td>\n      <td>0</td>\n      <td>0</td>\n      <td>0</td>\n      <td>...</td>\n      <td>0</td>\n      <td>1</td>\n      <td>0</td>\n      <td>1</td>\n      <td>1</td>\n      <td>0</td>\n      <td>1</td>\n      <td>0</td>\n      <td>0</td>\n      <td>1</td>\n    </tr>\n    <tr>\n      <th>ID12438</th>\n      <td>65</td>\n      <td>38080.9</td>\n      <td>1</td>\n      <td>0</td>\n      <td>1</td>\n      <td>1</td>\n      <td>0</td>\n      <td>0</td>\n      <td>0</td>\n      <td>0</td>\n      <td>...</td>\n      <td>0</td>\n      <td>1</td>\n      <td>0</td>\n      <td>1</td>\n      <td>1</td>\n      <td>0</td>\n      <td>0</td>\n      <td>1</td>\n      <td>1</td>\n      <td>0</td>\n    </tr>\n    <tr>\n      <th>...</th>\n      <td>...</td>\n      <td>...</td>\n      <td>...</td>\n      <td>...</td>\n      <td>...</td>\n      <td>...</td>\n      <td>...</td>\n      <td>...</td>\n      <td>...</td>\n      <td>...</td>\n      <td>...</td>\n      <td>...</td>\n      <td>...</td>\n      <td>...</td>\n      <td>...</td>\n      <td>...</td>\n      <td>...</td>\n      <td>...</td>\n      <td>...</td>\n      <td>...</td>\n      <td>...</td>\n    </tr>\n    <tr>\n      <th>ID12539</th>\n      <td>18</td>\n      <td>12117.3</td>\n      <td>1</td>\n      <td>1</td>\n      <td>0</td>\n      <td>0</td>\n      <td>0</td>\n      <td>1</td>\n      <td>0</td>\n      <td>0</td>\n      <td>...</td>\n      <td>1</td>\n      <td>0</td>\n      <td>1</td>\n      <td>0</td>\n      <td>0</td>\n      <td>1</td>\n      <td>1</td>\n      <td>0</td>\n      <td>1</td>\n      <td>0</td>\n    </tr>\n    <tr>\n      <th>ID12593</th>\n      <td>61</td>\n      <td>27756.3</td>\n      <td>0</td>\n      <td>1</td>\n      <td>0</td>\n      <td>0</td>\n      <td>0</td>\n      <td>0</td>\n      <td>1</td>\n      <td>0</td>\n      <td>...</td>\n      <td>0</td>\n      <td>1</td>\n      <td>0</td>\n      <td>1</td>\n      <td>1</td>\n      <td>0</td>\n      <td>0</td>\n      <td>1</td>\n      <td>0</td>\n      <td>1</td>\n    </tr>\n    <tr>\n      <th>ID12278</th>\n      <td>41</td>\n      <td>30099.3</td>\n      <td>0</td>\n      <td>1</td>\n      <td>0</td>\n      <td>1</td>\n      <td>0</td>\n      <td>0</td>\n      <td>0</td>\n      <td>0</td>\n      <td>...</td>\n      <td>0</td>\n      <td>1</td>\n      <td>0</td>\n      <td>1</td>\n      <td>0</td>\n      <td>1</td>\n      <td>0</td>\n      <td>1</td>\n      <td>0</td>\n      <td>1</td>\n    </tr>\n    <tr>\n      <th>ID12316</th>\n      <td>27</td>\n      <td>17610.3</td>\n      <td>0</td>\n      <td>0</td>\n      <td>1</td>\n      <td>0</td>\n      <td>0</td>\n      <td>1</td>\n      <td>0</td>\n      <td>0</td>\n      <td>...</td>\n      <td>1</td>\n      <td>0</td>\n      <td>0</td>\n      <td>1</td>\n      <td>0</td>\n      <td>1</td>\n      <td>1</td>\n      <td>0</td>\n      <td>1</td>\n      <td>0</td>\n    </tr>\n    <tr>\n      <th>ID12617</th>\n      <td>35</td>\n      <td>20262.6</td>\n      <td>0</td>\n      <td>1</td>\n      <td>0</td>\n      <td>0</td>\n      <td>0</td>\n      <td>0</td>\n      <td>1</td>\n      <td>1</td>\n      <td>...</td>\n      <td>1</td>\n      <td>0</td>\n      <td>0</td>\n      <td>1</td>\n      <td>1</td>\n      <td>0</td>\n      <td>1</td>\n      <td>0</td>\n      <td>0</td>\n      <td>1</td>\n    </tr>\n  </tbody>\n</table>\n<p>120 rows × 21 columns</p>\n</div>",
      "text/plain": "         age   income  children  gender_FEMALE  gender_MALE  \\\nid                                                            \nID12557   32  13267.6         0              1            0   \nID12467   59  29866.9         1              1            0   \nID12232   61  41609.5         3              0            1   \nID12549   53  48971.6         3              0            1   \nID12438   65  38080.9         1              0            1   \n...      ...      ...       ...            ...          ...   \nID12539   18  12117.3         1              1            0   \nID12593   61  27756.3         0              1            0   \nID12278   41  30099.3         0              1            0   \nID12316   27  17610.3         0              0            1   \nID12617   35  20262.6         0              1            0   \n\n         region_INNER_CITY  region_RURAL  region_SUBURBAN  region_TOWN  \\\nid                                                                       \nID12557                  0             0                0            1   \nID12467                  1             0                0            0   \nID12232                  0             1                0            0   \nID12549                  0             1                0            0   \nID12438                  1             0                0            0   \n...                    ...           ...              ...          ...   \nID12539                  0             0                1            0   \nID12593                  0             0                0            1   \nID12278                  1             0                0            0   \nID12316                  0             0                1            0   \nID12617                  0             0                0            1   \n\n         married_NO  ...  car_NO  car_YES  savings_acct_NO  savings_acct_YES  \\\nid                   ...                                                       \nID12557           0  ...       0        1                0                 1   \nID12467           1  ...       0        1                1                 0   \nID12232           0  ...       1        0                0                 1   \nID12549           0  ...       0        1                0                 1   \nID12438           0  ...       0        1                0                 1   \n...             ...  ...     ...      ...              ...               ...   \nID12539           0  ...       1        0                1                 0   \nID12593           0  ...       0        1                0                 1   \nID12278           0  ...       0        1                0                 1   \nID12316           0  ...       1        0                0                 1   \nID12617           1  ...       1        0                0                 1   \n\n         current_acct_NO  current_acct_YES  mortgage_NO  mortgage_YES  pep_NO  \\\nid                                                                              \nID12557                0                 1            0             1       1   \nID12467                0                 1            1             0       0   \nID12232                0                 1            0             1       1   \nID12549                1                 0            1             0       0   \nID12438                1                 0            0             1       1   \n...                  ...               ...          ...           ...     ...   \nID12539                0                 1            1             0       1   \nID12593                1                 0            0             1       0   \nID12278                0                 1            0             1       0   \nID12316                0                 1            1             0       1   \nID12617                1                 0            1             0       0   \n\n         pep_YES  \nid                \nID12557        0  \nID12467        1  \nID12232        0  \nID12549        1  \nID12438        0  \n...          ...  \nID12539        0  \nID12593        1  \nID12278        1  \nID12316        0  \nID12617        1  \n\n[120 rows x 21 columns]"
     },
     "execution_count": 84,
     "metadata": {},
     "output_type": "execute_result"
    }
   ]
  },
  {
   "cell_type": "code",
   "metadata": {
    "cell_id": "00013-2f7f66cc-21d5-459d-b57e-8bb9386eaab7",
    "deepnote_to_be_reexecuted": true,
    "source_hash": "7e87e376",
    "deepnote_app_coordinates": {
     "x": 0,
     "y": 78,
     "w": 12,
     "h": 5
    },
    "deepnote_cell_type": "code"
   },
   "source": "from sklearn import preprocessing\nmin_max_scaler = preprocessing.MinMaxScaler().fit(vs_train)\nvs_train_norm = min_max_scaler.transform(vs_train)\nvs_test_norm = min_max_scaler.transform(vs_test) #preprocessing",
   "execution_count": null,
   "outputs": []
  },
  {
   "cell_type": "code",
   "metadata": {
    "cell_id": "00014-2a52c00d-c165-4d8b-a601-daa02da3285a",
    "deepnote_to_be_reexecuted": true,
    "source_hash": "d5308497",
    "deepnote_app_coordinates": {
     "x": 0,
     "y": 84,
     "w": 12,
     "h": 5
    },
    "deepnote_output_heights": [
     193.96875
    ],
    "deepnote_cell_type": "code"
   },
   "source": "np.set_printoptions(precision=2, linewidth=80, suppress=True) #setting precision to 2\nvs_train_norm[0:5]",
   "execution_count": null,
   "outputs": [
    {
     "data": {
      "text/plain": "array([[0.57, 0.46, 0.67, 1.  , 0.  , 1.  , 0.  , 0.  , 0.  , 0.  , 1.  ,\n        0.  , 1.  , 0.  , 1.  , 0.  , 1.  , 1.  , 0.  , 1.  , 0.  ],\n       [0.8 , 0.78, 0.  , 1.  , 0.  , 0.  , 1.  , 0.  , 0.  , 0.  , 1.  ,\n        1.  , 0.  , 0.  , 1.  , 1.  , 0.  , 1.  , 0.  , 1.  , 0.  ],\n       [0.14, 0.16, 0.  , 1.  , 0.  , 1.  , 0.  , 0.  , 0.  , 0.  , 1.  ,\n        1.  , 0.  , 0.  , 1.  , 0.  , 1.  , 1.  , 0.  , 1.  , 0.  ],\n       [0.35, 0.18, 0.33, 0.  , 1.  , 1.  , 0.  , 0.  , 0.  , 0.  , 1.  ,\n        1.  , 0.  , 0.  , 1.  , 0.  , 1.  , 1.  , 0.  , 0.  , 1.  ],\n       [0.33, 0.18, 0.  , 1.  , 0.  , 0.  , 0.  , 0.  , 1.  , 0.  , 1.  ,\n        0.  , 1.  , 0.  , 1.  , 1.  , 0.  , 0.  , 1.  , 1.  , 0.  ]])"
     },
     "execution_count": 86,
     "metadata": {},
     "output_type": "execute_result"
    }
   ]
  },
  {
   "cell_type": "code",
   "metadata": {
    "cell_id": "00015-efe9467d-85c5-45ee-9508-eb79035f14b4",
    "deepnote_to_be_reexecuted": true,
    "source_hash": "fe444c40",
    "deepnote_app_coordinates": {
     "x": 0,
     "y": 90,
     "w": 12,
     "h": 5
    },
    "deepnote_output_heights": [
     193.96875
    ],
    "deepnote_cell_type": "code"
   },
   "source": "vs_test_norm[0:5]",
   "execution_count": null,
   "outputs": [
    {
     "data": {
      "text/plain": "array([[0.29, 0.12, 0.  , 1.  , 0.  , 0.  , 0.  , 0.  , 1.  , 0.  , 1.  ,\n        0.  , 1.  , 0.  , 1.  , 0.  , 1.  , 0.  , 1.  , 1.  , 0.  ],\n       [0.84, 0.41, 0.33, 1.  , 0.  , 1.  , 0.  , 0.  , 0.  , 1.  , 0.  ,\n        0.  , 1.  , 1.  , 0.  , 0.  , 1.  , 1.  , 0.  , 0.  , 1.  ],\n       [0.88, 0.62, 1.  , 0.  , 1.  , 0.  , 1.  , 0.  , 0.  , 0.  , 1.  ,\n        1.  , 0.  , 0.  , 1.  , 0.  , 1.  , 0.  , 1.  , 1.  , 0.  ],\n       [0.71, 0.75, 1.  , 0.  , 1.  , 0.  , 1.  , 0.  , 0.  , 0.  , 1.  ,\n        0.  , 1.  , 0.  , 1.  , 1.  , 0.  , 1.  , 0.  , 0.  , 1.  ],\n       [0.96, 0.56, 0.33, 0.  , 1.  , 1.  , 0.  , 0.  , 0.  , 0.  , 1.  ,\n        0.  , 1.  , 0.  , 1.  , 1.  , 0.  , 0.  , 1.  , 1.  , 0.  ]])"
     },
     "execution_count": 87,
     "metadata": {},
     "output_type": "execute_result"
    }
   ]
  },
  {
   "cell_type": "code",
   "metadata": {
    "cell_id": "00016-9c9d44c7-9dd7-4d00-a781-c7c8872f77aa",
    "deepnote_to_be_reexecuted": true,
    "source_hash": "53780c96",
    "deepnote_app_coordinates": {
     "x": 0,
     "y": 96,
     "w": 12,
     "h": 5
    },
    "deepnote_cell_type": "code"
   },
   "source": "from sklearn import neighbors, tree, naive_bayes",
   "execution_count": null,
   "outputs": []
  },
  {
   "cell_type": "code",
   "metadata": {
    "cell_id": "00017-2a0ebb45-81e6-47b3-8bda-1ad808a5c230",
    "deepnote_to_be_reexecuted": true,
    "source_hash": "7df084b6",
    "deepnote_app_coordinates": {
     "x": 0,
     "y": 102,
     "w": 12,
     "h": 5
    },
    "deepnote_output_heights": [
     21.1875
    ],
    "deepnote_cell_type": "code"
   },
   "source": "n_neighbors = 5 #checking for k 5 intially\n\nknnclf = neighbors.KNeighborsClassifier(n_neighbors, weights='distance')\nknnclf.fit(vs_train_norm, vs_target_train)",
   "execution_count": null,
   "outputs": [
    {
     "data": {
      "text/plain": "KNeighborsClassifier(weights='distance')"
     },
     "execution_count": 89,
     "metadata": {},
     "output_type": "execute_result"
    }
   ]
  },
  {
   "cell_type": "code",
   "metadata": {
    "cell_id": "00018-3748cf17-2dea-45de-830e-172651829a31",
    "deepnote_to_be_reexecuted": true,
    "source_hash": "2f08b9c3",
    "deepnote_app_coordinates": {
     "x": 0,
     "y": 108,
     "w": 12,
     "h": 5
    },
    "deepnote_cell_type": "code"
   },
   "source": "knnpreds_test = knnclf.predict(vs_test_norm)\n",
   "execution_count": null,
   "outputs": []
  },
  {
   "cell_type": "code",
   "metadata": {
    "cell_id": "00019-e5b36893-8258-4aa7-bf54-a5a2f3960fc8",
    "deepnote_to_be_reexecuted": true,
    "source_hash": "eb337241",
    "deepnote_app_coordinates": {
     "x": 0,
     "y": 114,
     "w": 12,
     "h": 5
    },
    "deepnote_cell_type": "code"
   },
   "source": "print (knnpreds_test)",
   "execution_count": null,
   "outputs": [
    {
     "name": "stdout",
     "output_type": "stream",
     "text": "['YES' 'NO' 'YES' 'YES' 'NO' 'NO' 'NO' 'NO' 'NO' 'YES' 'NO' 'NO' 'NO' 'NO'\n 'YES' 'NO' 'YES' 'YES' 'NO' 'NO' 'YES' 'YES' 'NO' 'NO' 'NO' 'YES' 'NO' 'NO'\n 'NO' 'NO' 'NO' 'YES' 'NO' 'YES' 'NO' 'NO' 'YES' 'YES' 'NO' 'YES' 'YES' 'YES'\n 'NO' 'NO' 'YES' 'YES' 'NO' 'YES' 'NO' 'NO' 'NO' 'NO' 'NO' 'YES' 'YES' 'YES'\n 'NO' 'YES' 'YES' 'YES' 'NO' 'NO' 'YES' 'YES' 'NO' 'NO' 'YES' 'YES' 'NO' 'NO'\n 'NO' 'YES' 'NO' 'YES' 'YES' 'NO' 'NO' 'YES' 'YES' 'YES' 'NO' 'NO' 'YES' 'NO'\n 'NO' 'NO' 'NO' 'YES' 'YES' 'YES' 'NO' 'YES' 'NO' 'NO' 'NO' 'NO' 'YES' 'YES'\n 'YES' 'NO' 'YES' 'YES' 'NO' 'NO' 'YES' 'YES' 'NO' 'NO' 'NO' 'YES' 'YES' 'YES'\n 'YES' 'NO' 'NO' 'NO' 'YES' 'YES' 'NO' 'NO']\n"
    }
   ]
  },
  {
   "cell_type": "code",
   "metadata": {
    "cell_id": "00020-8edd0564-41c2-460e-a702-fd5527f0f5ce",
    "deepnote_to_be_reexecuted": true,
    "source_hash": "1af305ee",
    "deepnote_app_coordinates": {
     "x": 0,
     "y": 120,
     "w": 12,
     "h": 5
    },
    "deepnote_cell_type": "code"
   },
   "source": "from sklearn.metrics import classification_report\nprint(classification_report(vs_target_test, knnpreds_test))",
   "execution_count": null,
   "outputs": [
    {
     "name": "stdout",
     "output_type": "stream",
     "text": "              precision    recall  f1-score   support\n\n          NO       0.58      0.55      0.56        69\n         YES       0.43      0.45      0.44        51\n\n    accuracy                           0.51       120\n   macro avg       0.50      0.50      0.50       120\nweighted avg       0.51      0.51      0.51       120\n\n"
    }
   ]
  },
  {
   "cell_type": "markdown",
   "source": "The f-test score for YES is 0.44 while for NO its 0.56. The accuracy is 0.51, 51%",
   "metadata": {
    "cell_id": "00021-27d4c2c4-b5f5-4a36-8dd2-705ee1555e33",
    "deepnote_app_coordinates": {
     "x": 0,
     "y": 126,
     "w": 12,
     "h": 5
    },
    "deepnote_cell_type": "markdown"
   }
  },
  {
   "cell_type": "markdown",
   "source": "### Run scikit-learn's KNN classifier on the test set. Note: in the case of KNN, you should first normalize the data so that all attributes are in the same scale (normalize so that the values are between 0 and 1).Generate the confusion matrix (visualize it using Matplotlib), as well as the classification report. Also, compute the average accuracy score. Experiment with different values of K and the weight parameter (i.e., with or without distance weighting) for KNN to see if you can improve accuracy (you do not need to provide the details of all of your experimentation,but provide a short discussion on what parameters worked best as well as your final results).",
   "metadata": {
    "cell_id": "00022-de011de8-1613-4de6-8317-8b09f7788707",
    "deepnote_app_coordinates": {
     "x": 0,
     "y": 132,
     "w": 12,
     "h": 5
    },
    "deepnote_cell_type": "markdown"
   }
  },
  {
   "cell_type": "code",
   "metadata": {
    "cell_id": "00023-bb7d593a-1813-4e7a-b904-8b12ed0e3b74",
    "deepnote_to_be_reexecuted": true,
    "source_hash": "8ece9234",
    "deepnote_app_coordinates": {
     "x": 0,
     "y": 138,
     "w": 12,
     "h": 5
    },
    "deepnote_cell_type": "code"
   },
   "source": "from sklearn.metrics import confusion_matrix",
   "execution_count": null,
   "outputs": []
  },
  {
   "cell_type": "code",
   "metadata": {
    "cell_id": "00024-1f33ab28-0809-4826-96f0-f223bcbb212e",
    "deepnote_to_be_reexecuted": true,
    "source_hash": "bb9c5e9b",
    "deepnote_app_coordinates": {
     "x": 0,
     "y": 144,
     "w": 12,
     "h": 5
    },
    "deepnote_cell_type": "code"
   },
   "source": "knncm = confusion_matrix(vs_target_test, knnpreds_test)\n",
   "execution_count": null,
   "outputs": []
  },
  {
   "cell_type": "code",
   "metadata": {
    "cell_id": "00025-003f5116-08f4-4f97-bf67-e58a4f4a69e2",
    "deepnote_to_be_reexecuted": true,
    "source_hash": "9e9117b1",
    "deepnote_app_coordinates": {
     "x": 0,
     "y": 150,
     "w": 12,
     "h": 5
    },
    "deepnote_cell_type": "code"
   },
   "source": "print (\"KNN confusion Matrix: \")\nprint (knncm)",
   "execution_count": null,
   "outputs": [
    {
     "name": "stdout",
     "output_type": "stream",
     "text": "KNN confusion Matrix: \n[[38 31]\n [28 23]]\n"
    }
   ]
  },
  {
   "cell_type": "code",
   "metadata": {
    "cell_id": "00026-47818152-9654-4682-84a5-d68ba78ca268",
    "deepnote_to_be_reexecuted": true,
    "source_hash": "8d0ac34",
    "deepnote_app_coordinates": {
     "x": 0,
     "y": 156,
     "w": 12,
     "h": 5
    },
    "deepnote_cell_type": "code"
   },
   "source": "print (\"KNN Clasification Score test norm: \"+str(knnclf.score(vs_test_norm, vs_target_test)))",
   "execution_count": null,
   "outputs": [
    {
     "name": "stdout",
     "output_type": "stream",
     "text": "KNN Clasification Score test norm: 0.5083333333333333\n"
    }
   ]
  },
  {
   "cell_type": "code",
   "metadata": {
    "cell_id": "00027-c8759fa6-e757-46a9-b363-dffc585baf9e",
    "deepnote_to_be_reexecuted": true,
    "source_hash": "5478d5ec",
    "deepnote_app_coordinates": {
     "x": 0,
     "y": 162,
     "w": 12,
     "h": 5
    },
    "deepnote_cell_type": "code"
   },
   "source": "print (\"KNN Clasification Score train norm: \"+str(knnclf.score(vs_train_norm, vs_target_train)))",
   "execution_count": null,
   "outputs": [
    {
     "name": "stdout",
     "output_type": "stream",
     "text": "KNN Clasification Score train norm: 1.0\n"
    }
   ]
  },
  {
   "cell_type": "markdown",
   "source": "### Decision Tree Classifier",
   "metadata": {
    "cell_id": "00028-1be53d12-89e1-43da-be7f-2d83fc5209e3",
    "deepnote_app_coordinates": {
     "x": 0,
     "y": 168,
     "w": 12,
     "h": 5
    },
    "deepnote_cell_type": "markdown"
   }
  },
  {
   "cell_type": "code",
   "metadata": {
    "cell_id": "00029-f0f5e49c-e080-4722-829c-0df6ae270a55",
    "deepnote_to_be_reexecuted": true,
    "source_hash": "88e7aad8",
    "deepnote_app_coordinates": {
     "x": 0,
     "y": 174,
     "w": 12,
     "h": 5
    },
    "deepnote_cell_type": "code"
   },
   "source": "treeclf = tree.DecisionTreeClassifier(criterion='entropy', min_samples_split=3)",
   "execution_count": null,
   "outputs": []
  },
  {
   "cell_type": "code",
   "metadata": {
    "cell_id": "00030-015f9891-bb32-46d6-b592-ad490d0708d2",
    "deepnote_to_be_reexecuted": true,
    "source_hash": "69cf61c3",
    "deepnote_app_coordinates": {
     "x": 0,
     "y": 180,
     "w": 12,
     "h": 5
    },
    "deepnote_cell_type": "code"
   },
   "source": "treeclf = treeclf.fit(vs_train, vs_target_train)",
   "execution_count": null,
   "outputs": []
  },
  {
   "cell_type": "code",
   "metadata": {
    "cell_id": "00031-068aaf35-003d-4afa-a969-77afaf5ebb10",
    "deepnote_to_be_reexecuted": true,
    "source_hash": "61bd2f5b",
    "deepnote_app_coordinates": {
     "x": 0,
     "y": 186,
     "w": 12,
     "h": 5
    },
    "deepnote_cell_type": "code"
   },
   "source": "treepreds_test = treeclf.predict(vs_test)\nprint (treepreds_test)",
   "execution_count": null,
   "outputs": [
    {
     "name": "stdout",
     "output_type": "stream",
     "text": "['YES' 'NO' 'YES' 'NO' 'NO' 'NO' 'YES' 'NO' 'NO' 'NO' 'NO' 'YES' 'YES' 'NO'\n 'YES' 'NO' 'YES' 'YES' 'YES' 'YES' 'YES' 'NO' 'NO' 'YES' 'YES' 'YES' 'YES'\n 'NO' 'YES' 'YES' 'NO' 'YES' 'YES' 'YES' 'NO' 'YES' 'YES' 'YES' 'NO' 'NO' 'NO'\n 'NO' 'YES' 'NO' 'NO' 'YES' 'YES' 'NO' 'YES' 'YES' 'NO' 'YES' 'YES' 'NO' 'YES'\n 'YES' 'YES' 'YES' 'NO' 'YES' 'NO' 'YES' 'YES' 'YES' 'YES' 'YES' 'NO' 'YES'\n 'YES' 'NO' 'YES' 'NO' 'NO' 'NO' 'YES' 'NO' 'NO' 'YES' 'YES' 'YES' 'NO' 'NO'\n 'YES' 'NO' 'NO' 'YES' 'NO' 'YES' 'YES' 'YES' 'NO' 'NO' 'YES' 'NO' 'YES' 'NO'\n 'YES' 'NO' 'NO' 'NO' 'NO' 'YES' 'YES' 'YES' 'NO' 'YES' 'NO' 'YES' 'YES' 'NO'\n 'YES' 'NO' 'NO' 'NO' 'NO' 'YES' 'NO' 'NO' 'NO' 'YES']\n"
    }
   ]
  },
  {
   "cell_type": "code",
   "metadata": {
    "cell_id": "00032-b294b7fa-7488-4035-869f-08a0b72db30a",
    "deepnote_to_be_reexecuted": true,
    "source_hash": "edef6146",
    "deepnote_app_coordinates": {
     "x": 0,
     "y": 192,
     "w": 12,
     "h": 5
    },
    "deepnote_cell_type": "code"
   },
   "source": "print (treeclf.score(vs_test, vs_target_test))",
   "execution_count": null,
   "outputs": [
    {
     "name": "stdout",
     "output_type": "stream",
     "text": "0.49166666666666664\n"
    }
   ]
  },
  {
   "cell_type": "code",
   "metadata": {
    "cell_id": "00033-a036728f-2b9b-419f-b020-1d47c57c1334",
    "deepnote_to_be_reexecuted": true,
    "source_hash": "20df3fe6",
    "deepnote_app_coordinates": {
     "x": 0,
     "y": 198,
     "w": 12,
     "h": 5
    },
    "deepnote_cell_type": "code"
   },
   "source": "print (treeclf.score(vs_train, vs_target_train))",
   "execution_count": null,
   "outputs": [
    {
     "name": "stdout",
     "output_type": "stream",
     "text": "0.975\n"
    }
   ]
  },
  {
   "cell_type": "code",
   "metadata": {
    "cell_id": "00034-e00c4a11-5c31-4e80-8f2b-8d4ff9629f0f",
    "deepnote_to_be_reexecuted": true,
    "source_hash": "75a898d3",
    "deepnote_app_coordinates": {
     "x": 0,
     "y": 204,
     "w": 12,
     "h": 5
    },
    "deepnote_cell_type": "code"
   },
   "source": "print(classification_report(vs_target_test, treepreds_test))",
   "execution_count": null,
   "outputs": [
    {
     "name": "stdout",
     "output_type": "stream",
     "text": "              precision    recall  f1-score   support\n\n          NO       0.57      0.46      0.51        69\n         YES       0.42      0.53      0.47        51\n\n    accuracy                           0.49       120\n   macro avg       0.50      0.50      0.49       120\nweighted avg       0.51      0.49      0.49       120\n\n"
    }
   ]
  },
  {
   "cell_type": "code",
   "metadata": {
    "cell_id": "00035-3d076a2a-0c03-4493-80e0-99437c731596",
    "deepnote_to_be_reexecuted": true,
    "source_hash": "720921bf",
    "deepnote_app_coordinates": {
     "x": 0,
     "y": 210,
     "w": 12,
     "h": 5
    },
    "deepnote_cell_type": "code"
   },
   "source": "treecm = confusion_matrix(vs_target_test, treepreds_test, labels=['YES','NO'])\nprint (treecm)",
   "execution_count": null,
   "outputs": [
    {
     "name": "stdout",
     "output_type": "stream",
     "text": "[[27 24]\n [37 32]]\n"
    }
   ]
  },
  {
   "cell_type": "code",
   "metadata": {
    "cell_id": "00036-ebcba008-bad7-4b37-a656-1bc027da9e8a",
    "deepnote_to_be_reexecuted": true,
    "source_hash": "a56356d3",
    "deepnote_app_coordinates": {
     "x": 0,
     "y": 216,
     "w": 12,
     "h": 5
    },
    "deepnote_output_heights": [
     255.984375
    ],
    "deepnote_cell_type": "code"
   },
   "source": "import pylab as plt\n%matplotlib inline\nplt.matshow(treecm)\nplt.title('Confusion matrix')\nplt.colorbar()\nplt.ylabel('Actual')\nplt.xlabel('Predicted')\nplt.show()",
   "execution_count": null,
   "outputs": [
    {
     "data": {
      "image/png": "[encoded data removed]",
      "text/plain": "<Figure size 288x288 with 2 Axes>"
     },
     "metadata": {
      "needs_background": "light",
      "image/png": {
       "width": 262,
       "height": 254
      }
     },
     "output_type": "display_data"
    }
   ]
  },
  {
   "cell_type": "markdown",
   "source": "### Experiment with different values of K and the weight parameter KNN",
   "metadata": {
    "cell_id": "00037-e5ae126a-979f-481a-ab4b-5dcf6f3b9eb3",
    "deepnote_app_coordinates": {
     "x": 0,
     "y": 222,
     "w": 12,
     "h": 5
    },
    "deepnote_cell_type": "markdown"
   }
  },
  {
   "cell_type": "markdown",
   "source": "k = 8,11,20 for weights of both distance and uniform",
   "metadata": {
    "cell_id": "00038-fafad9d9-c8af-4c36-b510-8751f1d4fa97",
    "deepnote_app_coordinates": {
     "x": 0,
     "y": 228,
     "w": 12,
     "h": 5
    },
    "deepnote_cell_type": "markdown"
   }
  },
  {
   "cell_type": "code",
   "metadata": {
    "cell_id": "00039-eea2ef86-f847-4bc8-aa98-bfb29e1f216a",
    "deepnote_to_be_reexecuted": true,
    "source_hash": "18c5bcd",
    "deepnote_app_coordinates": {
     "x": 0,
     "y": 234,
     "w": 12,
     "h": 5
    },
    "deepnote_cell_type": "code"
   },
   "source": "n_neighbors = 11\n\nknnclf = neighbors.KNeighborsClassifier(n_neighbors, weights='distance')\nknnclf.fit(vs_train_norm, vs_target_train)\nknnpreds_test = knnclf.predict(vs_test_norm)\nprint(classification_report(vs_target_test, knnpreds_test))\nknncm = confusion_matrix(vs_target_test, knnpreds_test)\nprint(\"Confusion Martix:\")\nprint(knncm)\nprint(\"Score Test\")\nprint (knnclf.score(vs_test_norm, vs_target_test))\nprint(\"Score Train\")\nprint (knnclf.score(vs_train_norm, vs_target_train))\n",
   "execution_count": null,
   "outputs": [
    {
     "name": "stdout",
     "output_type": "stream",
     "text": "              precision    recall  f1-score   support\n\n          NO       0.63      0.62      0.63        69\n         YES       0.50      0.51      0.50        51\n\n    accuracy                           0.57       120\n   macro avg       0.57      0.57      0.57       120\nweighted avg       0.58      0.57      0.58       120\n\nConfusion Martix:\n[[43 26]\n [25 26]]\nScore Test\n0.575\nScore Train\n1.0\n"
    }
   ]
  },
  {
   "cell_type": "code",
   "metadata": {
    "cell_id": "00040-f08c7c81-e4b4-4bfa-bfef-14939b020339",
    "deepnote_to_be_reexecuted": true,
    "source_hash": "7af5e4e6",
    "deepnote_app_coordinates": {
     "x": 0,
     "y": 240,
     "w": 12,
     "h": 5
    },
    "deepnote_cell_type": "code"
   },
   "source": "n_neighbors = 11\n\nknnclf = neighbors.KNeighborsClassifier(n_neighbors, weights='uniform')\nknnclf.fit(vs_train_norm, vs_target_train)\nknnpreds_test = knnclf.predict(vs_test_norm)\nprint(classification_report(vs_target_test, knnpreds_test))\nknncm = confusion_matrix(vs_target_test, knnpreds_test)\nprint(\"Confusion Martix:\")\nprint(knncm)\nprint(\"Score Test\")\nprint (knnclf.score(vs_test_norm, vs_target_test))\nprint(\"Score Train\")\nprint (knnclf.score(vs_train_norm, vs_target_train))",
   "execution_count": null,
   "outputs": [
    {
     "name": "stdout",
     "output_type": "stream",
     "text": "              precision    recall  f1-score   support\n\n          NO       0.60      0.70      0.64        69\n         YES       0.47      0.37      0.42        51\n\n    accuracy                           0.56       120\n   macro avg       0.54      0.53      0.53       120\nweighted avg       0.55      0.56      0.55       120\n\nConfusion Martix:\n[[48 21]\n [32 19]]\nScore Test\n0.5583333333333333\nScore Train\n0.625\n"
    }
   ]
  },
  {
   "cell_type": "code",
   "metadata": {
    "cell_id": "00041-c29feb20-9606-478e-b832-d64f8cfb13ff",
    "deepnote_to_be_reexecuted": true,
    "source_hash": "884adba3",
    "deepnote_app_coordinates": {
     "x": 0,
     "y": 246,
     "w": 12,
     "h": 5
    },
    "deepnote_output_heights": [
     null,
     255.984375
    ],
    "deepnote_cell_type": "code"
   },
   "source": "n_neighbors = 8\n\nknnclf = neighbors.KNeighborsClassifier(n_neighbors, weights='distance')\nknnclf.fit(vs_train_norm, vs_target_train)\nknnpreds_test = knnclf.predict(vs_test_norm)\nprint(classification_report(vs_target_test, knnpreds_test))\nknncm = confusion_matrix(vs_target_test, knnpreds_test)\nprint(\"Confusion Martix:\")\nprint(knncm)\nprint(\"Score Test\")\nprint (knnclf.score(vs_test_norm, vs_target_test))\nprint(\"Score Train\")\nprint (knnclf.score(vs_train_norm, vs_target_train))\n",
   "execution_count": null,
   "outputs": [
    {
     "name": "stdout",
     "output_type": "stream",
     "text": "              precision    recall  f1-score   support\n\n          NO       0.63      0.61      0.62        69\n         YES       0.49      0.51      0.50        51\n\n    accuracy                           0.57       120\n   macro avg       0.56      0.56      0.56       120\nweighted avg       0.57      0.57      0.57       120\n\nScore Test\n0.5666666666666667\nScore Train\n1.0\n0.5666666666666667\n0.975\n              precision    recall  f1-score   support\n\n          NO       0.64      0.57      0.60        69\n         YES       0.49      0.57      0.53        51\n\n    accuracy                           0.57       120\n   macro avg       0.57      0.57      0.56       120\nweighted avg       0.58      0.57      0.57       120\n\n"
    },
    {
     "data": {
      "image/png": "[encoded data removed]",
      "text/plain": "<Figure size 288x288 with 2 Axes>"
     },
     "metadata": {
      "needs_background": "light",
      "image/png": {
       "width": 262,
       "height": 254
      }
     },
     "output_type": "display_data"
    }
   ]
  },
  {
   "cell_type": "code",
   "metadata": {
    "cell_id": "00042-2e3b0f19-b38f-42ef-8acf-74a2ad79f1ce",
    "deepnote_to_be_reexecuted": true,
    "source_hash": "95887ceb",
    "deepnote_app_coordinates": {
     "x": 0,
     "y": 252,
     "w": 12,
     "h": 5
    },
    "deepnote_cell_type": "code"
   },
   "source": "n_neighbors = 8\n\nknnclf = neighbors.KNeighborsClassifier(n_neighbors, weights='uniform')\nknnclf.fit(vs_train_norm, vs_target_train)\nknnpreds_test = knnclf.predict(vs_test_norm)\nprint(classification_report(vs_target_test, knnpreds_test))\nknncm = confusion_matrix(vs_target_test, knnpreds_test)\nprint(\"Confusion Martix:\")\nprint(knncm)\nprint(\"Score Test\")\nprint (knnclf.score(vs_test_norm, vs_target_test))\nprint(\"Score Train\")\nprint (knnclf.score(vs_train_norm, vs_target_train))",
   "execution_count": null,
   "outputs": [
    {
     "name": "stdout",
     "output_type": "stream",
     "text": "              precision    recall  f1-score   support\n\n          NO       0.57      0.75      0.65        69\n         YES       0.41      0.24      0.30        51\n\n    accuracy                           0.53       120\n   macro avg       0.49      0.49      0.47       120\nweighted avg       0.50      0.53      0.50       120\n\nConfusion Martix:\n[[52 17]\n [39 12]]\nScore Test\n0.5333333333333333\nScore Train\n0.65625\n"
    }
   ]
  },
  {
   "cell_type": "code",
   "metadata": {
    "cell_id": "00043-36bd621e-22ae-4c50-87ca-8419d320f858",
    "deepnote_to_be_reexecuted": true,
    "source_hash": "d52686c7",
    "deepnote_app_coordinates": {
     "x": 0,
     "y": 258,
     "w": 12,
     "h": 5
    },
    "deepnote_cell_type": "code"
   },
   "source": "n_neighbors =20\n\nknnclf = neighbors.KNeighborsClassifier(n_neighbors, weights='distance')\nknnclf.fit(vs_train_norm, vs_target_train)\nknnpreds_test = knnclf.predict(vs_test_norm)\nprint(classification_report(vs_target_test, knnpreds_test))\nknncm = confusion_matrix(vs_target_test, knnpreds_test)\nprint(\"Confusion Martix:\")\nprint(knncm)\nprint(\"Score Test:\")\nprint (knnclf.score(vs_test_norm, vs_target_test))\nprint(\"Score Train:\")\nprint (knnclf.score(vs_train_norm, vs_target_train))\n",
   "execution_count": null,
   "outputs": [
    {
     "name": "stdout",
     "output_type": "stream",
     "text": "              precision    recall  f1-score   support\n\n          NO       0.61      0.64      0.62        69\n         YES       0.48      0.45      0.46        51\n\n    accuracy                           0.56       120\n   macro avg       0.55      0.54      0.54       120\nweighted avg       0.56      0.56      0.56       120\n\nConfusion Martix:\n[[44 25]\n [28 23]]\nScore Test:\n0.5583333333333333\nScore Train:\n1.0\n"
    }
   ]
  },
  {
   "cell_type": "code",
   "metadata": {
    "cell_id": "00044-002be376-46ba-46a2-95a6-0954bb824da5",
    "deepnote_to_be_reexecuted": true,
    "source_hash": "450a034a",
    "deepnote_app_coordinates": {
     "x": 0,
     "y": 264,
     "w": 12,
     "h": 5
    },
    "deepnote_cell_type": "code"
   },
   "source": "n_neighbors =20\n\nknnclf = neighbors.KNeighborsClassifier(n_neighbors, weights='uniform')\nknnclf.fit(vs_train_norm, vs_target_train)\nknnpreds_test = knnclf.predict(vs_test_norm)\nprint(classification_report(vs_target_test, knnpreds_test))\nknncm = confusion_matrix(vs_target_test, knnpreds_test)\nprint(\"Confusion Martix:\")\nprint(knncm)\nprint(\"Score Test:\")\nprint (knnclf.score(vs_test_norm, vs_target_test))\nprint(\"Score Train:\")\nprint (knnclf.score(vs_train_norm, vs_target_train))",
   "execution_count": null,
   "outputs": [
    {
     "name": "stdout",
     "output_type": "stream",
     "text": "              precision    recall  f1-score   support\n\n          NO       0.56      0.71      0.63        69\n         YES       0.39      0.25      0.31        51\n\n    accuracy                           0.52       120\n   macro avg       0.48      0.48      0.47       120\nweighted avg       0.49      0.52      0.49       120\n\nConfusion Martix:\n[[49 20]\n [38 13]]\nScore Test:\n0.5166666666666667\nScore Train:\n0.58125\n"
    }
   ]
  },
  {
   "cell_type": "markdown",
   "source": "We can see a significant changes in the training score when the weights were uniform as comapred to distance, the accuracy above 50 percent in all but less when K is increased",
   "metadata": {
    "cell_id": "00045-24a156fa-7656-4988-a6eb-e3b9cc4f6124",
    "deepnote_app_coordinates": {
     "x": 0,
     "y": 270,
     "w": 12,
     "h": 5
    },
    "deepnote_cell_type": "markdown"
   }
  },
  {
   "cell_type": "markdown",
   "source": "### Repeat the classification using scikit-learn's decision tree classifier (using the default parameters) and the Naive Bayes (Gaussian) classifier. As above, generate the confusion matrix, classification report, and average accuracyscores for each classifier. For each model, compare the average accuracy scores on the test and the training data sets. What does the comparison tell you in terms of bias-variance trade-off?",
   "metadata": {
    "cell_id": "00046-590711c2-fa7c-4486-8e57-715e85c0fead",
    "deepnote_app_coordinates": {
     "x": 0,
     "y": 276,
     "w": 12,
     "h": 5
    },
    "deepnote_cell_type": "markdown"
   }
  },
  {
   "cell_type": "code",
   "metadata": {
    "cell_id": "00047-93f017f0-9374-46a7-a114-e7d5dc5c1064",
    "deepnote_to_be_reexecuted": true,
    "source_hash": "30acf627",
    "deepnote_app_coordinates": {
     "x": 0,
     "y": 282,
     "w": 12,
     "h": 5
    },
    "deepnote_output_heights": [
     null,
     249.984375
    ],
    "deepnote_cell_type": "code"
   },
   "source": "treeclf = tree.DecisionTreeClassifier(criterion='entropy', min_samples_split=8)\ntreeclf = treeclf.fit(vs_train, vs_target_train)\ntreepreds_test = treeclf.predict(vs_test)\nprint (\"Score Test: \"+str(treeclf.score(vs_test, vs_target_test)))\nprint (\"Score Train: \"+str(treeclf.score(vs_train, vs_target_train)))\nprint(classification_report(vs_target_test, treepreds_test))\ntreecm = confusion_matrix(vs_target_test, treepreds_test, labels=['YES','NO'])\n\n%matplotlib inline\nplt.matshow(treecm)\nplt.title('Confusion matrix')\nplt.colorbar()\nplt.ylabel('Actual')\nplt.xlabel('Predicted')\nplt.show()",
   "execution_count": null,
   "outputs": [
    {
     "name": "stdout",
     "output_type": "stream",
     "text": "Score Test: 0.5083333333333333\nScore Train: 0.8833333333333333\n              precision    recall  f1-score   support\n\n          NO       0.57      0.58      0.58        69\n         YES       0.42      0.41      0.42        51\n\n    accuracy                           0.51       120\n   macro avg       0.50      0.50      0.50       120\nweighted avg       0.51      0.51      0.51       120\n\n"
    },
    {
     "data": {
      "image/png": "[encoded data removed]",
      "text/plain": "<Figure size 288x288 with 2 Axes>"
     },
     "metadata": {
      "needs_background": "light",
      "image/png": {
       "width": 272,
       "height": 248
      }
     },
     "output_type": "display_data"
    }
   ]
  },
  {
   "cell_type": "markdown",
   "source": "The accuracy Score on Test set is 0.508 while Score Train: 0.883. By looking at the confusion matrix we can see that the accuracy is that most values are between 32 and below while only one yellow box that is around 40",
   "metadata": {
    "cell_id": "00048-393f7374-7fdf-4d88-987b-aebb605757d3",
    "deepnote_app_coordinates": {
     "x": 0,
     "y": 288,
     "w": 12,
     "h": 5
    },
    "deepnote_cell_type": "markdown"
   }
  },
  {
   "cell_type": "code",
   "metadata": {
    "cell_id": "00049-f36c9531-ff59-4d92-b4d8-6c826cd77bd4",
    "deepnote_to_be_reexecuted": true,
    "source_hash": "9e85f330",
    "deepnote_app_coordinates": {
     "x": 0,
     "y": 294,
     "w": 12,
     "h": 5
    },
    "deepnote_output_heights": [
     null,
     249.984375
    ],
    "deepnote_cell_type": "code"
   },
   "source": "treeclf = tree.DecisionTreeClassifier(criterion='entropy', min_samples_split=12)\ntreeclf = treeclf.fit(vs_train, vs_target_train)\ntreepreds_test = treeclf.predict(vs_test)\nprint (\"Score Test: \"+str(treeclf.score(vs_test, vs_target_test)))\nprint (\"Score Train: \"+str(treeclf.score(vs_train, vs_target_train)))\nprint(classification_report(vs_target_test, treepreds_test))\ntreecm = confusion_matrix(vs_target_test, treepreds_test, labels=['YES','NO'])\n\n%matplotlib inline\nplt.matshow(treecm)\nplt.title('Confusion matrix')\nplt.colorbar()\nplt.ylabel('Actual')\nplt.xlabel('Predicted')\nplt.show()",
   "execution_count": null,
   "outputs": [
    {
     "name": "stdout",
     "output_type": "stream",
     "text": "Score Test: 0.5416666666666666\nScore Train: 0.8458333333333333\n              precision    recall  f1-score   support\n\n          NO       0.59      0.64      0.62        69\n         YES       0.46      0.41      0.43        51\n\n    accuracy                           0.54       120\n   macro avg       0.53      0.52      0.52       120\nweighted avg       0.54      0.54      0.54       120\n\n"
    },
    {
     "data": {
      "image/png": "[encoded data removed]",
      "text/plain": "<Figure size 288x288 with 2 Axes>"
     },
     "metadata": {
      "needs_background": "light",
      "image/png": {
       "width": 262,
       "height": 248
      }
     },
     "output_type": "display_data"
    }
   ]
  },
  {
   "cell_type": "markdown",
   "source": "By looking at the confusion matrix we can see that the accuracy is that most values are between 35 and below while only one yellow box that is above 40",
   "metadata": {
    "cell_id": "00050-a85396d5-a42e-4eef-aa0e-138762b0b51b",
    "deepnote_app_coordinates": {
     "x": 0,
     "y": 300,
     "w": 12,
     "h": 5
    },
    "deepnote_cell_type": "markdown"
   }
  },
  {
   "cell_type": "code",
   "metadata": {
    "cell_id": "00051-f330e6f3-9644-4078-a587-0a86d781696e",
    "deepnote_to_be_reexecuted": true,
    "source_hash": "b841d21e",
    "deepnote_app_coordinates": {
     "x": 0,
     "y": 306,
     "w": 12,
     "h": 5
    },
    "deepnote_output_heights": [
     null,
     249.984375
    ],
    "deepnote_cell_type": "code"
   },
   "source": "treeclf = tree.DecisionTreeClassifier(criterion='entropy', min_samples_split=18)\ntreeclf = treeclf.fit(vs_train, vs_target_train)\ntreepreds_test = treeclf.predict(vs_test)\nprint (\"Score Test: \"+str(treeclf.score(vs_test, vs_target_test)))\nprint (\"Score Train: \"+str(treeclf.score(vs_train, vs_target_train)))\nprint(classification_report(vs_target_test, treepreds_test))\ntreecm = confusion_matrix(vs_target_test, treepreds_test, labels=['YES','NO'])\n\n%matplotlib inline\nplt.matshow(treecm)\nplt.title('Confusion matrix')\nplt.colorbar()\nplt.ylabel('Actual')\nplt.xlabel('Predicted')\nplt.show()",
   "execution_count": null,
   "outputs": [
    {
     "name": "stdout",
     "output_type": "stream",
     "text": "Score Test: 0.5333333333333333\nScore Train: 0.7791666666666667\n              precision    recall  f1-score   support\n\n          NO       0.58      0.65      0.62        69\n         YES       0.44      0.37      0.40        51\n\n    accuracy                           0.53       120\n   macro avg       0.51      0.51      0.51       120\nweighted avg       0.52      0.53      0.53       120\n\n"
    },
    {
     "data": {
      "image/png": "[encoded data removed]",
      "text/plain": "<Figure size 288x288 with 2 Axes>"
     },
     "metadata": {
      "needs_background": "light",
      "image/png": {
       "width": 262,
       "height": 248
      }
     },
     "output_type": "display_data"
    }
   ]
  },
  {
   "cell_type": "markdown",
   "source": "By looking at the confusion matrix with min split of 18 we can see that the accuracy is that most values are between 35 while only one yellow box that is around above 42",
   "metadata": {
    "cell_id": "00052-4530e640-41d5-4888-b02b-6d37e0159e5d",
    "deepnote_app_coordinates": {
     "x": 0,
     "y": 312,
     "w": 12,
     "h": 5
    },
    "deepnote_cell_type": "markdown"
   }
  },
  {
   "cell_type": "code",
   "metadata": {
    "cell_id": "00053-e4633f07-f7dd-48db-909c-b702b56a0f1f",
    "deepnote_to_be_reexecuted": true,
    "source_hash": "b623e53d",
    "deepnote_app_coordinates": {
     "x": 0,
     "y": 318,
     "w": 12,
     "h": 5
    },
    "deepnote_cell_type": "code"
   },
   "source": "",
   "execution_count": null,
   "outputs": []
  },
  {
   "cell_type": "markdown",
   "source": "<a style='text-decoration:none;line-height:16px;display:flex;color:#5B5B62;padding:10px;justify-content:end;' href='https://deepnote.com?utm_source=created-in-deepnote-cell&projectId=17f06124-1663-44ac-81e3-bfdb2fd3bd2c' target=\"_blank\">\n<img alt='Created in deepnote.com' style='display:inline;max-height:16px;margin:0px;margin-right:7.5px;' src='data:image/svg+xml;base64,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' > </img>\nCreated in <span style='font-weight:600;margin-left:4px;'>Deepnote</span></a>",
   "metadata": {
    "tags": [],
    "created_in_deepnote_cell": true,
    "deepnote_cell_type": "markdown"
   }
  }
 ],
 "nbformat": 4,
 "nbformat_minor": 4,
 "metadata": {
  "kernelspec": {
   "display_name": "Python 3",
   "language": "python",
   "name": "python3"
  },
  "language_info": {
   "codemirror_mode": {
    "name": "ipython",
    "version": 3
   },
   "file_extension": ".py",
   "mimetype": "text/x-python",
   "name": "python",
   "nbconvert_exporter": "python",
   "pygments_lexer": "ipython3",
   "version": "3.8.5"
  },
  "deepnote_notebook_id": "88420060-76e7-49e3-8570-2aeac692bf02",
  "deepnote": {},
  "deepnote_app_layout": "article",
  "deepnote_execution_queue": []
 }
}